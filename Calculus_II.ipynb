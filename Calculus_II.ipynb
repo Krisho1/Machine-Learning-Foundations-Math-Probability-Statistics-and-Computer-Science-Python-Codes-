{
  "nbformat": 4,
  "nbformat_minor": 0,
  "metadata": {
    "colab": {
      "provenance": [],
      "authorship_tag": "ABX9TyMyG6+/Rb47ftlTt/zlg3uZ",
      "include_colab_link": true
    },
    "kernelspec": {
      "name": "python3",
      "display_name": "Python 3"
    },
    "language_info": {
      "name": "python"
    }
  },
  "cells": [
    {
      "cell_type": "markdown",
      "metadata": {
        "id": "view-in-github",
        "colab_type": "text"
      },
      "source": [
        "<a href=\"https://colab.research.google.com/github/Krisho1/Machine-Learning-Foundations-Math-Probability-Statistics-and-Computer-Science-Python-Codes-/blob/main/Calculus_II.ipynb\" target=\"_parent\"><img src=\"https://colab.research.google.com/assets/colab-badge.svg\" alt=\"Open In Colab\"/></a>"
      ]
    },
    {
      "cell_type": "markdown",
      "source": [
        "#Calculus -II : Integrals"
      ],
      "metadata": {
        "id": "udwcHy06OT_y"
      }
    },
    {
      "cell_type": "code",
      "source": [
        "from scipy.integrate import quad #quad = numerical integration"
      ],
      "metadata": {
        "id": "IS3r-3OkOYHW"
      },
      "execution_count": 2,
      "outputs": []
    },
    {
      "cell_type": "code",
      "source": [
        "def g(x):\n",
        "  return x/2"
      ],
      "metadata": {
        "id": "lB-_cmE8OsfA"
      },
      "execution_count": 1,
      "outputs": []
    },
    {
      "cell_type": "code",
      "source": [
        "quad(g,1,2)"
      ],
      "metadata": {
        "colab": {
          "base_uri": "https://localhost:8080/"
        },
        "id": "KZm9QtffO0bw",
        "outputId": "1c567939-119a-422a-fdfe-e5609f3fa64f"
      },
      "execution_count": 3,
      "outputs": [
        {
          "output_type": "execute_result",
          "data": {
            "text/plain": [
              "(0.75, 8.326672684688674e-15)"
            ]
          },
          "metadata": {},
          "execution_count": 3
        }
      ]
    },
    {
      "cell_type": "markdown",
      "source": [
        "Second output is aboslute error"
      ],
      "metadata": {
        "id": "JtW3aCtAPEQk"
      }
    },
    {
      "cell_type": "code",
      "source": [
        "def h(x):\n",
        "  return 2*x"
      ],
      "metadata": {
        "id": "ATd-UqYfPw91"
      },
      "execution_count": 4,
      "outputs": []
    },
    {
      "cell_type": "code",
      "source": [
        "quad(h,3,4)"
      ],
      "metadata": {
        "colab": {
          "base_uri": "https://localhost:8080/"
        },
        "id": "0IKB2q6yP24Z",
        "outputId": "bd32c44b-d14e-478a-f2ee-398bbae841de"
      },
      "execution_count": 5,
      "outputs": [
        {
          "output_type": "execute_result",
          "data": {
            "text/plain": [
              "(7.0, 7.771561172376096e-14)"
            ]
          },
          "metadata": {},
          "execution_count": 5
        }
      ]
    },
    {
      "cell_type": "markdown",
      "source": [
        "#Area under a curve (ROC)"
      ],
      "metadata": {
        "id": "nQjyNEI9QQ_b"
      }
    },
    {
      "cell_type": "code",
      "source": [
        "from sklearn.metrics import auc"
      ],
      "metadata": {
        "id": "F8T8rCgfQb8O"
      },
      "execution_count": 7,
      "outputs": []
    },
    {
      "cell_type": "markdown",
      "source": [
        " coordinates of our hot dog-detecting ROC curve are:\n",
        "\n",
        "(0, 0)\n",
        "(0, 0.5)\n",
        "(0.5, 0.5)\n",
        "(0.5, 1)\n",
        "(1, 1)"
      ],
      "metadata": {
        "id": "RRXWDSy3Q4jG"
      }
    },
    {
      "cell_type": "code",
      "source": [
        "xs = [0,0,0.5,0.5,1]\n",
        "ys =[0,0.5,0.5,1,1]"
      ],
      "metadata": {
        "id": "pGLwi3JoQ79K"
      },
      "execution_count": 8,
      "outputs": []
    },
    {
      "cell_type": "code",
      "source": [
        "auc(xs,ys)"
      ],
      "metadata": {
        "colab": {
          "base_uri": "https://localhost:8080/"
        },
        "id": "nMSSIzliRTGs",
        "outputId": "c8c74816-650d-45f2-cfbe-4c40453342f7"
      },
      "execution_count": 9,
      "outputs": [
        {
          "output_type": "execute_result",
          "data": {
            "text/plain": [
              "0.75"
            ]
          },
          "metadata": {},
          "execution_count": 9
        }
      ]
    }
  ]
}