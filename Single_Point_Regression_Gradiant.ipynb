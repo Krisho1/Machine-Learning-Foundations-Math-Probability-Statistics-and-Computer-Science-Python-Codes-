{
  "nbformat": 4,
  "nbformat_minor": 0,
  "metadata": {
    "colab": {
      "provenance": [],
      "authorship_tag": "ABX9TyOB4me+hJeHa5W/7F4OphBK",
      "include_colab_link": true
    },
    "kernelspec": {
      "name": "python3",
      "display_name": "Python 3"
    },
    "language_info": {
      "name": "python"
    }
  },
  "cells": [
    {
      "cell_type": "markdown",
      "metadata": {
        "id": "view-in-github",
        "colab_type": "text"
      },
      "source": [
        "<a href=\"https://colab.research.google.com/github/Krisho1/Machine-Learning-Foundations-Math-Probability-Statistics-and-Computer-Science-Python-Codes-/blob/main/Single_Point_Regression_Gradiant.ipynb\" target=\"_parent\"><img src=\"https://colab.research.google.com/assets/colab-badge.svg\" alt=\"Open In Colab\"/></a>"
      ]
    },
    {
      "cell_type": "markdown",
      "source": [
        "#Single Point Regression Equation\n",
        "We will Calculate gradiant of quadratic cost w.r.to. straight line regression model, we will keep partial derivative as simple as possible limiting the model to handle single data point"
      ],
      "metadata": {
        "id": "IWfuJk-JToNv"
      }
    },
    {
      "cell_type": "code",
      "source": [
        "import torch"
      ],
      "metadata": {
        "id": "Ie0vv5D7TsQQ"
      },
      "execution_count": 1,
      "outputs": []
    },
    {
      "cell_type": "code",
      "source": [
        "xs = torch.tensor([0, 1, 2, 3, 4, 5, 6, 7.])"
      ],
      "metadata": {
        "id": "eQONYqHgVYpt"
      },
      "execution_count": 2,
      "outputs": []
    },
    {
      "cell_type": "code",
      "source": [
        "ys = torch.tensor([1.86, 1.31, .62, .33, .09, -.67, -1.23, -1.37])"
      ],
      "metadata": {
        "id": "V3bNRJ5fVZsy"
      },
      "execution_count": 3,
      "outputs": []
    },
    {
      "cell_type": "markdown",
      "source": [
        "y = mx + c"
      ],
      "metadata": {
        "id": "R0bQyfNVVllv"
      }
    },
    {
      "cell_type": "code",
      "source": [
        "def my_fxn(my_x, my_m, my_c):\n",
        "  return my_m * my_x + my_c\n"
      ],
      "metadata": {
        "id": "d7YgQh0ZaAh1"
      },
      "execution_count": 5,
      "outputs": []
    },
    {
      "cell_type": "code",
      "source": [
        "m = torch.tensor([0.9]).requires_grad_()\n",
        "m"
      ],
      "metadata": {
        "colab": {
          "base_uri": "https://localhost:8080/"
        },
        "id": "8aZQHGv9aRrV",
        "outputId": "2b407097-b606-40ff-b285-5121084a7c18"
      },
      "execution_count": 6,
      "outputs": [
        {
          "output_type": "execute_result",
          "data": {
            "text/plain": [
              "tensor([0.9000], requires_grad=True)"
            ]
          },
          "metadata": {},
          "execution_count": 6
        }
      ]
    },
    {
      "cell_type": "code",
      "source": [
        "c = torch.tensor([0.1]).requires_grad_()\n",
        "c"
      ],
      "metadata": {
        "colab": {
          "base_uri": "https://localhost:8080/"
        },
        "id": "4dSUgJ2labml",
        "outputId": "7bdc280d-6368-49e9-aaa4-a11e1192e3af"
      },
      "execution_count": 7,
      "outputs": [
        {
          "output_type": "execute_result",
          "data": {
            "text/plain": [
              "tensor([0.1000], requires_grad=True)"
            ]
          },
          "metadata": {},
          "execution_count": 7
        }
      ]
    },
    {
      "cell_type": "code",
      "source": [
        "i = 7 # Let's  take one data\n",
        "x = xs[i]\n",
        "y = ys[i]"
      ],
      "metadata": {
        "id": "PF4OebMoakM-"
      },
      "execution_count": 8,
      "outputs": []
    },
    {
      "cell_type": "code",
      "source": [
        "x"
      ],
      "metadata": {
        "colab": {
          "base_uri": "https://localhost:8080/"
        },
        "id": "YIytkGJgayfp",
        "outputId": "45edb416-d538-4951-80c4-fa7a01aaa067"
      },
      "execution_count": 9,
      "outputs": [
        {
          "output_type": "execute_result",
          "data": {
            "text/plain": [
              "tensor(7.)"
            ]
          },
          "metadata": {},
          "execution_count": 9
        }
      ]
    },
    {
      "cell_type": "code",
      "source": [
        "y"
      ],
      "metadata": {
        "colab": {
          "base_uri": "https://localhost:8080/"
        },
        "id": "9mhXNr_hazbQ",
        "outputId": "f8e3a2ec-38b3-4f59-eac1-fa5b845f448a"
      },
      "execution_count": 10,
      "outputs": [
        {
          "output_type": "execute_result",
          "data": {
            "text/plain": [
              "tensor(-1.3700)"
            ]
          },
          "metadata": {},
          "execution_count": 10
        }
      ]
    },
    {
      "cell_type": "code",
      "source": [
        "yhat = my_fxn(x, m, c)\n",
        "yhat"
      ],
      "metadata": {
        "colab": {
          "base_uri": "https://localhost:8080/"
        },
        "id": "6n46xnfZa4oR",
        "outputId": "8499fd4d-5f73-4d0d-9715-f02d4a8ef044"
      },
      "execution_count": 11,
      "outputs": [
        {
          "output_type": "execute_result",
          "data": {
            "text/plain": [
              "tensor([6.4000], grad_fn=<AddBackward0>)"
            ]
          },
          "metadata": {},
          "execution_count": 11
        }
      ]
    },
    {
      "cell_type": "markdown",
      "source": [
        "Compare yhat\n",
        "C(Cost) = (yhat -y)**2"
      ],
      "metadata": {
        "id": "5GWfPk9cbAIy"
      }
    },
    {
      "cell_type": "code",
      "source": [
        "def squared_error(my_yhat,my_y):\n",
        "  return (my_yhat-my_y)**2"
      ],
      "metadata": {
        "id": "s2Tn57H1bGwW"
      },
      "execution_count": 12,
      "outputs": []
    },
    {
      "cell_type": "code",
      "source": [
        "C = squared_error(yhat,y)"
      ],
      "metadata": {
        "id": "duRiAs2WbUYJ"
      },
      "execution_count": 14,
      "outputs": []
    },
    {
      "cell_type": "code",
      "source": [
        "C.backward()  # Use autodiff to find gradient of C w.r.to m and b"
      ],
      "metadata": {
        "id": "Db4Wk_jUbg7B"
      },
      "execution_count": 15,
      "outputs": []
    },
    {
      "cell_type": "code",
      "source": [
        "m.grad # partial derivative of C (dC)/(dm)"
      ],
      "metadata": {
        "colab": {
          "base_uri": "https://localhost:8080/"
        },
        "id": "-bzXXy6hbr0_",
        "outputId": "67e3b4b7-4f4c-4302-b3e6-7d6c6274fb07"
      },
      "execution_count": 16,
      "outputs": [
        {
          "output_type": "execute_result",
          "data": {
            "text/plain": [
              "tensor([108.7800])"
            ]
          },
          "metadata": {},
          "execution_count": 16
        }
      ]
    },
    {
      "cell_type": "code",
      "source": [
        "c.grad #Partial derivative of C w.r.to (dC)/(dc)"
      ],
      "metadata": {
        "colab": {
          "base_uri": "https://localhost:8080/"
        },
        "id": "_UbQePzWb7ak",
        "outputId": "d6abff56-88cd-4c74-d6c5-abc169aa21fe"
      },
      "execution_count": 19,
      "outputs": [
        {
          "output_type": "execute_result",
          "data": {
            "text/plain": [
              "tensor([15.5400])"
            ]
          },
          "metadata": {},
          "execution_count": 19
        }
      ]
    },
    {
      "cell_type": "code",
      "source": [
        "deltaC_by_deltam = 2*x*(yhat.item() - y) #(dC)/(dm) = 2x(yhat - y)\n",
        "deltaC_by_deltam"
      ],
      "metadata": {
        "colab": {
          "base_uri": "https://localhost:8080/"
        },
        "id": "E24Pj2J1ef0I",
        "outputId": "6eb16d97-d942-4c80-f00a-8806d664e60d"
      },
      "execution_count": 22,
      "outputs": [
        {
          "output_type": "execute_result",
          "data": {
            "text/plain": [
              "tensor(108.7800)"
            ]
          },
          "metadata": {},
          "execution_count": 22
        }
      ]
    },
    {
      "cell_type": "code",
      "source": [
        "deltaC_by_deltac = 2*(yhat.item()-y) #(dC)/(dc) = 2(yhat - y)\n",
        "deltaC_by_deltac"
      ],
      "metadata": {
        "colab": {
          "base_uri": "https://localhost:8080/"
        },
        "id": "gVEOdn7BezMo",
        "outputId": "466f8043-8716-4cd1-e04b-fe1784cffb00"
      },
      "execution_count": 23,
      "outputs": [
        {
          "output_type": "execute_result",
          "data": {
            "text/plain": [
              "tensor(15.5400)"
            ]
          },
          "metadata": {},
          "execution_count": 23
        }
      ]
    },
    {
      "cell_type": "code",
      "source": [
        "gradiant = torch.tensor([[c.grad.item(),m.grad.item()]]).T\n",
        "gradiant"
      ],
      "metadata": {
        "colab": {
          "base_uri": "https://localhost:8080/"
        },
        "id": "NngA2-GGzGbr",
        "outputId": "5553be0a-26a5-4feb-f8e3-621cce448a0a"
      },
      "execution_count": 26,
      "outputs": [
        {
          "output_type": "execute_result",
          "data": {
            "text/plain": [
              "tensor([[ 15.5400],\n",
              "        [108.7800]])"
            ]
          },
          "metadata": {},
          "execution_count": 26
        }
      ]
    }
  ]
}