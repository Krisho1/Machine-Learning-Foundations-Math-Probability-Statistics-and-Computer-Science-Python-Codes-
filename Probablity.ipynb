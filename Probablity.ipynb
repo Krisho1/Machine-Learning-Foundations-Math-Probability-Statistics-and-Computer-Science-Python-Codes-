{
  "nbformat": 4,
  "nbformat_minor": 0,
  "metadata": {
    "colab": {
      "provenance": [],
      "authorship_tag": "ABX9TyPqKZK8B+vh7kmnNbQSSIhS",
      "include_colab_link": true
    },
    "kernelspec": {
      "name": "python3",
      "display_name": "Python 3"
    },
    "language_info": {
      "name": "python"
    }
  },
  "cells": [
    {
      "cell_type": "markdown",
      "metadata": {
        "id": "view-in-github",
        "colab_type": "text"
      },
      "source": [
        "<a href=\"https://colab.research.google.com/github/Krisho1/Machine-Learning-Foundations-Math-Probability-Statistics-and-Computer-Science-Python-Codes-/blob/main/Probablity.ipynb\" target=\"_parent\"><img src=\"https://colab.research.google.com/assets/colab-badge.svg\" alt=\"Open In Colab\"/></a>"
      ]
    },
    {
      "cell_type": "markdown",
      "source": [],
      "metadata": {
        "id": "hz3dFsaFUGfM"
      }
    },
    {
      "cell_type": "markdown",
      "source": [
        "#Probablity"
      ],
      "metadata": {
        "id": "legMaD-WLkjr"
      }
    },
    {
      "cell_type": "code",
      "source": [
        "from math import factorial\n",
        "import numpy as np\n",
        "import matplotlib.pyplot as plt"
      ],
      "metadata": {
        "id": "j_IFbX2NLmdk"
      },
      "execution_count": 1,
      "outputs": []
    },
    {
      "cell_type": "code",
      "source": [
        "def coinflip_prob(n,k):\n",
        "  n_choose_k = factorial(n)/(factorial(k)*factorial(n-k))\n",
        "  return n_choose_k/2**n"
      ],
      "metadata": {
        "id": "MFJm8rXsToHy"
      },
      "execution_count": 2,
      "outputs": []
    },
    {
      "cell_type": "code",
      "source": [
        "coinflip_prob(5,3)"
      ],
      "metadata": {
        "colab": {
          "base_uri": "https://localhost:8080/"
        },
        "id": "mDt9RrzmT-9I",
        "outputId": "aa942020-8c93-4415-c396-168416bcf0d0"
      },
      "execution_count": 3,
      "outputs": [
        {
          "output_type": "execute_result",
          "data": {
            "text/plain": [
              "0.3125"
            ]
          },
          "metadata": {},
          "execution_count": 3
        }
      ]
    },
    {
      "cell_type": "code",
      "source": [
        "[coinflip_prob(5,h) for h in range(6)]"
      ],
      "metadata": {
        "colab": {
          "base_uri": "https://localhost:8080/"
        },
        "id": "78A4YFGTUTHF",
        "outputId": "0522a30c-4f8a-4486-d399-adc1a16e6fb9"
      },
      "execution_count": 4,
      "outputs": [
        {
          "output_type": "execute_result",
          "data": {
            "text/plain": [
              "[0.03125, 0.15625, 0.3125, 0.3125, 0.15625, 0.03125]"
            ]
          },
          "metadata": {},
          "execution_count": 4
        }
      ]
    },
    {
      "cell_type": "markdown",
      "source": [
        "##Law of Large Number"
      ],
      "metadata": {
        "id": "jwoZhMKvWjFj"
      }
    },
    {
      "cell_type": "code",
      "source": [
        "ns = np.array([2, 4, 8, 16, 32, 64, 128, 256, 512, 1024, 2048, 4096])"
      ],
      "metadata": {
        "id": "72PcjmR8WmWR"
      },
      "execution_count": 5,
      "outputs": []
    },
    {
      "cell_type": "code",
      "source": [
        "np.random.seed(42) # for reproducibility"
      ],
      "metadata": {
        "id": "l5HmgyjvW4x0"
      },
      "execution_count": 6,
      "outputs": []
    },
    {
      "cell_type": "markdown",
      "source": [
        "We will discuss the binomial() method in more detail in Segment 2. For now it suffices to think of its two arguments as number of coin flips in experiment and probability of heads, while it returns the number of flips that are heads in the experiment."
      ],
      "metadata": {
        "id": "9k3ros4_XHYL"
      }
    },
    {
      "cell_type": "code",
      "source": [
        "np.random.binomial(1,0.5)  # We are doing one toss and with 50% chance we will get what's the value let's consider Heads as 1 and Tails as 0"
      ],
      "metadata": {
        "colab": {
          "base_uri": "https://localhost:8080/"
        },
        "id": "k1KdnAlpXAvu",
        "outputId": "773a7440-2540-4fb6-8fad-0d3e02b37a38"
      },
      "execution_count": 7,
      "outputs": [
        {
          "output_type": "execute_result",
          "data": {
            "text/plain": [
              "0"
            ]
          },
          "metadata": {},
          "execution_count": 7
        }
      ]
    },
    {
      "cell_type": "code",
      "source": [
        "heads_count = [np.random.binomial(n,0.5) for n in ns]\n",
        "heads_count"
      ],
      "metadata": {
        "colab": {
          "base_uri": "https://localhost:8080/"
        },
        "id": "p0kDRgH9XhlW",
        "outputId": "e0a12013-3870-48fd-8c13-59c09edf23ed"
      },
      "execution_count": 8,
      "outputs": [
        {
          "output_type": "execute_result",
          "data": {
            "text/plain": [
              "[2, 3, 4, 6, 13, 27, 54, 136, 258, 509, 1038, 2094]"
            ]
          },
          "metadata": {},
          "execution_count": 8
        }
      ]
    },
    {
      "cell_type": "markdown",
      "source": [
        "he law of large numbers states that the **more** experiments we run, the **closer** we will tend to get to the expected probability."
      ],
      "metadata": {
        "id": "tfWPsHy0X7ls"
      }
    },
    {
      "cell_type": "code",
      "source": [
        "proportion_of_heads = heads_count/ns\n",
        "proportion_of_heads"
      ],
      "metadata": {
        "colab": {
          "base_uri": "https://localhost:8080/"
        },
        "id": "DXnvvtVuYImi",
        "outputId": "da8e4c5b-4b1a-41d7-daef-5bfd22b2172d"
      },
      "execution_count": 9,
      "outputs": [
        {
          "output_type": "execute_result",
          "data": {
            "text/plain": [
              "array([1.        , 0.75      , 0.5       , 0.375     , 0.40625   ,\n",
              "       0.421875  , 0.421875  , 0.53125   , 0.50390625, 0.49707031,\n",
              "       0.50683594, 0.51123047])"
            ]
          },
          "metadata": {},
          "execution_count": 9
        }
      ]
    },
    {
      "cell_type": "code",
      "source": [
        "fig,ax = plt.subplots()\n",
        "plt.xlabel = ('Number of Coin toss')\n",
        "plt.ylabel =('Probality of Heads')\n",
        "plt.axhline(0.5,color = 'orange')\n",
        "_ = ax.scatter(ns,proportion_of_heads)"
      ],
      "metadata": {
        "colab": {
          "base_uri": "https://localhost:8080/",
          "height": 430
        },
        "id": "-Ty0tNEcYfAU",
        "outputId": "483d82b6-1bbc-405a-cb0d-697f56f21422"
      },
      "execution_count": 10,
      "outputs": [
        {
          "output_type": "display_data",
          "data": {
            "text/plain": [
              "<Figure size 640x480 with 1 Axes>"
            ],
            "image/png": "[encoded data removed]"
          },
          "metadata": {}
        }
      ]
    },
    {
      "cell_type": "markdown",
      "source": [
        "#Statistics\n",
        "\n",
        "The field of statistics applies probability theory to make inferences with a quantifiable degree of confidence. For example, let's say we ran the five-coin-flip experiment 1000 times with a fair coin:"
      ],
      "metadata": {
        "id": "rvA9bXqbZufi"
      }
    },
    {
      "cell_type": "code",
      "source": [
        "n_experiment = 1000"
      ],
      "metadata": {
        "id": "YnJeYHy1Z74C"
      },
      "execution_count": 11,
      "outputs": []
    },
    {
      "cell_type": "code",
      "source": [
        "heads_count = np.random.binomial(5,0.5,n_experiment)   #Third arguement provides number of experiment we will be doing\n"
      ],
      "metadata": {
        "id": "wBnApKthZ-73"
      },
      "execution_count": 12,
      "outputs": []
    },
    {
      "cell_type": "code",
      "source": [
        "heads,count = np.unique(heads_count,return_counts = True)"
      ],
      "metadata": {
        "id": "Mj6rbCdXaXsM"
      },
      "execution_count": 13,
      "outputs": []
    },
    {
      "cell_type": "code",
      "source": [
        "heads"
      ],
      "metadata": {
        "colab": {
          "base_uri": "https://localhost:8080/"
        },
        "id": "UcYHNYZlajah",
        "outputId": "b03d5bd1-dda5-422a-ac72-343bf385decf"
      },
      "execution_count": 14,
      "outputs": [
        {
          "output_type": "execute_result",
          "data": {
            "text/plain": [
              "array([0, 1, 2, 3, 4, 5])"
            ]
          },
          "metadata": {},
          "execution_count": 14
        }
      ]
    },
    {
      "cell_type": "markdown",
      "source": [
        "We can plot the results of our experiment to create a probability distribution:"
      ],
      "metadata": {
        "id": "H1P3DOlBdKQU"
      }
    },
    {
      "cell_type": "code",
      "source": [
        "count"
      ],
      "metadata": {
        "colab": {
          "base_uri": "https://localhost:8080/"
        },
        "id": "1g-9ztkbanDO",
        "outputId": "77aaaeb0-0b6e-4080-f54e-2c3bb8906549"
      },
      "execution_count": 15,
      "outputs": [
        {
          "output_type": "execute_result",
          "data": {
            "text/plain": [
              "array([ 33, 181, 285, 313, 160,  28])"
            ]
          },
          "metadata": {},
          "execution_count": 15
        }
      ]
    },
    {
      "cell_type": "code",
      "source": [
        "event_probablity = count/n_experiment\n",
        "event_probablity"
      ],
      "metadata": {
        "colab": {
          "base_uri": "https://localhost:8080/"
        },
        "id": "B4_6rIYQayjn",
        "outputId": "c7f7dcf6-52a1-4715-b4f6-d5ddf59ee15d"
      },
      "execution_count": 16,
      "outputs": [
        {
          "output_type": "execute_result",
          "data": {
            "text/plain": [
              "array([0.033, 0.181, 0.285, 0.313, 0.16 , 0.028])"
            ]
          },
          "metadata": {},
          "execution_count": 16
        }
      ]
    },
    {
      "cell_type": "code",
      "source": [
        "plt.bar(heads, event_probablity, color='mediumpurple')\n",
        "#plt.xlabel('Number of Heads')\n",
        "#plt.ylabel('Event probability')\n",
        "plt.show()"
      ],
      "metadata": {
        "colab": {
          "base_uri": "https://localhost:8080/",
          "height": 430
        },
        "id": "QbBaIHgRbAW7",
        "outputId": "9f7f2027-1942-4f8d-a579-b51cc16d8325"
      },
      "execution_count": 17,
      "outputs": [
        {
          "output_type": "display_data",
          "data": {
            "text/plain": [
              "<Figure size 640x480 with 1 Axes>"
            ],
            "image/png": "[encoded data removed]"
          },
          "metadata": {}
        }
      ]
    },
    {
      "cell_type": "markdown",
      "source": [
        "#Expected Value"
      ],
      "metadata": {
        "id": "C6-4Wj3Kq3NS"
      }
    },
    {
      "cell_type": "code",
      "source": [
        "p = [coinflip_prob(5,h) for h in range(6)]\n",
        "p"
      ],
      "metadata": {
        "colab": {
          "base_uri": "https://localhost:8080/"
        },
        "id": "zG_8hRHRrFiL",
        "outputId": "67d0813b-f565-4bd3-da01-1f839a1937d2"
      },
      "execution_count": 18,
      "outputs": [
        {
          "output_type": "execute_result",
          "data": {
            "text/plain": [
              "[0.03125, 0.15625, 0.3125, 0.3125, 0.15625, 0.03125]"
            ]
          },
          "metadata": {},
          "execution_count": 18
        }
      ]
    },
    {
      "cell_type": "code",
      "source": [
        "E = [sum(p[X]*X for X in range(6))]\n",
        "E"
      ],
      "metadata": {
        "colab": {
          "base_uri": "https://localhost:8080/"
        },
        "id": "lJ4uj7GVrYIq",
        "outputId": "59345af3-f891-4c5d-c734-bf090ea09bb3"
      },
      "execution_count": 19,
      "outputs": [
        {
          "output_type": "execute_result",
          "data": {
            "text/plain": [
              "[2.5]"
            ]
          },
          "metadata": {},
          "execution_count": 19
        }
      ]
    },
    {
      "cell_type": "markdown",
      "source": [
        "#Measure of central tendency"
      ],
      "metadata": {
        "id": "rnEIJUUCm4HD"
      }
    },
    {
      "cell_type": "markdown",
      "source": [
        "##Mean"
      ],
      "metadata": {
        "id": "w5DmVgTpnoXt"
      }
    },
    {
      "cell_type": "code",
      "source": [
        "len(heads_count)"
      ],
      "metadata": {
        "colab": {
          "base_uri": "https://localhost:8080/"
        },
        "id": "Xbc1SWCBnMvh",
        "outputId": "64e2dd64-b18e-4f33-9a72-00cad6bf9454"
      },
      "execution_count": 20,
      "outputs": [
        {
          "output_type": "execute_result",
          "data": {
            "text/plain": [
              "1000"
            ]
          },
          "metadata": {},
          "execution_count": 20
        }
      ]
    },
    {
      "cell_type": "code",
      "source": [
        "heads_count[0:20]"
      ],
      "metadata": {
        "colab": {
          "base_uri": "https://localhost:8080/"
        },
        "id": "0KF3SvAXnXxz",
        "outputId": "828655c7-7d91-474f-cdb6-9d1f6901b85d"
      },
      "execution_count": 21,
      "outputs": [
        {
          "output_type": "execute_result",
          "data": {
            "text/plain": [
              "array([2, 2, 2, 3, 2, 3, 3, 1, 3, 1, 1, 4, 4, 3, 2, 1, 3, 2, 1, 2])"
            ]
          },
          "metadata": {},
          "execution_count": 21
        }
      ]
    },
    {
      "cell_type": "code",
      "source": [
        "sum(heads_count)/len(heads_count)"
      ],
      "metadata": {
        "colab": {
          "base_uri": "https://localhost:8080/"
        },
        "id": "gAY8y7g0ncH_",
        "outputId": "14d51291-c48c-45cc-fb8d-9bc1d862181a"
      },
      "execution_count": 22,
      "outputs": [
        {
          "output_type": "execute_result",
          "data": {
            "text/plain": [
              "2.47"
            ]
          },
          "metadata": {},
          "execution_count": 22
        }
      ]
    },
    {
      "cell_type": "code",
      "source": [
        "np.mean(heads_count)"
      ],
      "metadata": {
        "colab": {
          "base_uri": "https://localhost:8080/"
        },
        "id": "oL8_gv2Qnylp",
        "outputId": "b224dcd5-b9f1-486d-c3b0-7c81b11ffcd5"
      },
      "execution_count": 23,
      "outputs": [
        {
          "output_type": "execute_result",
          "data": {
            "text/plain": [
              "2.47"
            ]
          },
          "metadata": {},
          "execution_count": 23
        }
      ]
    },
    {
      "cell_type": "markdown",
      "source": [
        "##Median"
      ],
      "metadata": {
        "id": "vwlwich1oUkC"
      }
    },
    {
      "cell_type": "code",
      "source": [
        "heads_count.sort()"
      ],
      "metadata": {
        "id": "cVfBKm4boWBV"
      },
      "execution_count": 24,
      "outputs": []
    },
    {
      "cell_type": "code",
      "source": [
        "heads_count[0:20]"
      ],
      "metadata": {
        "colab": {
          "base_uri": "https://localhost:8080/"
        },
        "id": "6vrchty4odBe",
        "outputId": "a4b99fb3-fab1-4b6d-a2e1-74135d25ca98"
      },
      "execution_count": 25,
      "outputs": [
        {
          "output_type": "execute_result",
          "data": {
            "text/plain": [
              "array([0, 0, 0, 0, 0, 0, 0, 0, 0, 0, 0, 0, 0, 0, 0, 0, 0, 0, 0, 0])"
            ]
          },
          "metadata": {},
          "execution_count": 25
        }
      ]
    },
    {
      "cell_type": "code",
      "source": [
        "heads_count[-20:]"
      ],
      "metadata": {
        "colab": {
          "base_uri": "https://localhost:8080/"
        },
        "id": "F3dSk0jpogrh",
        "outputId": "7a91201d-ef7a-454f-d2e2-144611aaa651"
      },
      "execution_count": 26,
      "outputs": [
        {
          "output_type": "execute_result",
          "data": {
            "text/plain": [
              "array([5, 5, 5, 5, 5, 5, 5, 5, 5, 5, 5, 5, 5, 5, 5, 5, 5, 5, 5, 5])"
            ]
          },
          "metadata": {},
          "execution_count": 26
        }
      ]
    },
    {
      "cell_type": "code",
      "source": [
        "heads_count[499]"
      ],
      "metadata": {
        "colab": {
          "base_uri": "https://localhost:8080/"
        },
        "id": "4kf_MyOloliX",
        "outputId": "9801a70a-16a5-4cba-daf0-b95c33adad69"
      },
      "execution_count": 27,
      "outputs": [
        {
          "output_type": "execute_result",
          "data": {
            "text/plain": [
              "3"
            ]
          },
          "metadata": {},
          "execution_count": 27
        }
      ]
    },
    {
      "cell_type": "code",
      "source": [
        "heads_count[500]"
      ],
      "metadata": {
        "colab": {
          "base_uri": "https://localhost:8080/"
        },
        "id": "vno8G0CIoqOx",
        "outputId": "404942f1-3cdb-4da0-b2e0-1dcd165eb068"
      },
      "execution_count": 28,
      "outputs": [
        {
          "output_type": "execute_result",
          "data": {
            "text/plain": [
              "3"
            ]
          },
          "metadata": {},
          "execution_count": 28
        }
      ]
    },
    {
      "cell_type": "code",
      "source": [
        "(3+3)/2 #Median in this case"
      ],
      "metadata": {
        "colab": {
          "base_uri": "https://localhost:8080/"
        },
        "id": "zHhyskyKoxWW",
        "outputId": "45abc54e-1cc3-4ae1-fc6b-38076b5827ad"
      },
      "execution_count": 29,
      "outputs": [
        {
          "output_type": "execute_result",
          "data": {
            "text/plain": [
              "3.0"
            ]
          },
          "metadata": {},
          "execution_count": 29
        }
      ]
    },
    {
      "cell_type": "code",
      "source": [
        "np.median(heads_count)"
      ],
      "metadata": {
        "colab": {
          "base_uri": "https://localhost:8080/"
        },
        "id": "7K3f1nhdo6G9",
        "outputId": "e93cbf1a-9acf-4161-e1a6-392beb485cb0"
      },
      "execution_count": 30,
      "outputs": [
        {
          "output_type": "execute_result",
          "data": {
            "text/plain": [
              "3.0"
            ]
          },
          "metadata": {},
          "execution_count": 30
        }
      ]
    },
    {
      "cell_type": "markdown",
      "source": [
        "##Modes\n",
        "\n",
        "\n",
        "Stats Modue in SciPy have mode module"
      ],
      "metadata": {
        "id": "0FR99D6TpIfb"
      }
    },
    {
      "cell_type": "code",
      "source": [
        "from scipy import stats as st\n",
        "st.mode(heads_count)"
      ],
      "metadata": {
        "colab": {
          "base_uri": "https://localhost:8080/"
        },
        "id": "-Ik2hOUepKr4",
        "outputId": "ca2c13cf-9e45-4a57-8e5d-83f2de51c4f5"
      },
      "execution_count": 31,
      "outputs": [
        {
          "output_type": "execute_result",
          "data": {
            "text/plain": [
              "ModeResult(mode=3, count=313)"
            ]
          },
          "metadata": {},
          "execution_count": 31
        }
      ]
    },
    {
      "cell_type": "code",
      "source": [
        "x = st.skewnorm.rvs(0,1000) #first arguement is skewness; 0 has no skew"
      ],
      "metadata": {
        "id": "sn-v84gcpnUj"
      },
      "execution_count": 32,
      "outputs": []
    },
    {
      "cell_type": "code",
      "source": [
        "fig, ax = plt.subplots()\n",
        "plt.axvline(x = np.mean(x), color='orange')\n",
        "plt.axvline(x = np.median(x), color='green')\n",
        "_ = plt.hist(x, color = 'lightgray')\n",
        "# Note: Mode typically only applies to PMFs; this is a PDF"
      ],
      "metadata": {
        "colab": {
          "base_uri": "https://localhost:8080/",
          "height": 430
        },
        "id": "mrg1aU2mqaOh",
        "outputId": "fb491409-60ca-43d2-b3ce-bf2dd86bab2d"
      },
      "execution_count": 33,
      "outputs": [
        {
          "output_type": "display_data",
          "data": {
            "text/plain": [
              "<Figure size 640x480 with 1 Axes>"
            ],
            "image/png": "[encoded data removed]"
          },
          "metadata": {}
        }
      ]
    },
    {
      "cell_type": "code",
      "source": [
        "x = st.skewnorm.rvs(10, size=1000)\n",
        "x"
      ],
      "metadata": {
        "colab": {
          "base_uri": "https://localhost:8080/"
        },
        "id": "8nENoZ3VsN-_",
        "outputId": "7a60cea9-880c-4605-fbe0-bfc5f4b4c320"
      },
      "execution_count": 34,
      "outputs": [
        {
          "output_type": "execute_result",
          "data": {
            "text/plain": [
              "array([ 1.35244549e-01,  3.17290537e-02,  1.12280283e+00,  5.19519673e-01,\n",
              "        2.51546399e-02,  6.10601316e-01,  6.11759009e-01,  4.65265179e-01,\n",
              "        2.47611459e-01,  4.25752652e-01,  1.09218969e+00,  8.01107895e-01,\n",
              "        2.34010607e-01,  4.22942306e-01,  1.60021876e+00,  2.84818160e-01,\n",
              "        1.00000389e+00,  1.56686476e+00,  5.16113111e-02,  8.13657297e-01,\n",
              "        6.08673855e-02,  9.61964564e-01,  5.27781802e-01,  1.41000017e+00,\n",
              "        2.26511512e+00,  4.25715536e-01,  4.26509810e-01,  1.49014634e+00,\n",
              "        1.46323427e+00,  3.79872153e-01,  4.27911396e-01,  2.78510558e-01,\n",
              "        1.26730829e+00,  8.90886979e-01,  9.04316767e-01,  7.35417210e-01,\n",
              "        9.54525493e-02,  2.69023315e-01,  1.42900064e+00,  9.82597305e-01,\n",
              "        9.76130886e-01,  2.33635260e-01,  6.20081911e-02,  4.84219513e-01,\n",
              "        1.17175033e+00,  3.89750332e-01,  1.81532443e-01,  3.87749824e-01,\n",
              "        4.13676192e-01,  2.35692733e+00,  5.38110405e-01,  4.85854290e-01,\n",
              "        6.84350019e-01,  3.76070356e-01,  7.52995200e-01,  1.27457493e+00,\n",
              "        1.51301622e+00,  6.34642993e-01,  6.89669275e-01,  4.44195453e-01,\n",
              "        5.20756377e-01,  6.55693689e-01,  1.88551733e-01,  1.42754333e+00,\n",
              "        1.61878031e+00,  1.61297964e+00,  4.79960832e-01,  5.51201606e-01,\n",
              "        3.87188883e-01,  4.44908296e-01,  5.46720826e-01,  1.95935073e+00,\n",
              "        2.86090799e-01,  8.15720889e-01,  1.40312449e+00,  6.49723451e-01,\n",
              "       -9.74180233e-02,  1.92452754e+00,  5.70980302e-01,  2.01858980e-01,\n",
              "        1.83849753e-01,  1.10230844e+00,  2.61039807e+00,  3.67477673e-01,\n",
              "        6.09832751e-01,  9.80026508e-01,  6.75879921e-01,  1.86541955e+00,\n",
              "        5.00471700e-01,  3.15313341e-01,  5.40574746e-01,  1.10176324e+00,\n",
              "        8.70767599e-01,  5.05395566e-01,  1.01795897e+00,  1.15258602e+00,\n",
              "        1.36650716e+00,  6.08672990e-01,  1.92039876e-01,  3.05056913e-01,\n",
              "        1.25633486e+00,  8.42282765e-01,  4.36193209e-01,  4.24603027e-01,\n",
              "        1.45332432e-01,  1.30888792e+00,  1.79473717e-01,  9.07555916e-02,\n",
              "        1.50941545e+00,  6.30432498e-01,  5.23480788e-01,  2.16674227e+00,\n",
              "        1.33859104e-01,  4.40085389e-01,  3.11634497e-01,  1.61946057e+00,\n",
              "        2.74034542e-01,  2.23638734e-01,  5.26492222e-01,  1.23906373e-01,\n",
              "        4.60948985e-01,  1.46151993e-01,  8.71355828e-01,  9.47001047e-01,\n",
              "        2.55678503e-02,  6.72840296e-01,  1.39549478e+00,  1.60710980e+00,\n",
              "        8.07921043e-01,  3.46881361e-01,  1.66730421e+00, -1.29438900e-01,\n",
              "        6.74788934e-01,  1.92124466e+00,  1.48712780e+00,  2.19843596e+00,\n",
              "        7.00952739e-01,  6.49113762e-01,  9.90916593e-01,  7.51378219e-01,\n",
              "        3.50630555e-01,  5.51529528e-01,  1.24329832e+00,  8.29157000e-01,\n",
              "        6.73753485e-01,  1.32832581e-01,  1.89932120e+00,  1.10155174e+00,\n",
              "        1.48043139e+00,  6.91386021e-01, -6.66864061e-02,  2.37017935e-01,\n",
              "        4.16462174e-01,  4.75874095e-01,  1.33545200e+00,  1.37154729e+00,\n",
              "        1.41013992e-01,  1.24851261e+00,  1.28516939e-01,  7.66704088e-01,\n",
              "        6.72021214e-01,  4.67699770e-01,  6.34070892e-01,  1.35096989e+00,\n",
              "        2.47399492e-01,  7.69686457e-01,  3.40056424e-02,  1.44188380e+00,\n",
              "        6.92671402e-01,  1.77695045e+00,  5.93527531e-02,  1.31086010e+00,\n",
              "        1.86529758e-01,  9.70251332e-01,  9.01736162e-01,  6.30008155e-01,\n",
              "        4.45830701e-01,  1.91882233e+00,  3.38208213e-01,  2.31756767e+00,\n",
              "        1.65294642e+00,  7.97144079e-01,  6.85216923e-01,  2.86068959e-01,\n",
              "        1.02453792e+00, -3.83367840e-02, -9.12548263e-02,  1.10156204e+00,\n",
              "        1.56808695e+00,  9.24369768e-01,  2.83697375e-01,  6.97303092e-02,\n",
              "        2.86992368e-01,  1.95654733e+00,  1.27649386e-01,  6.08120823e-01,\n",
              "        9.61678757e-01,  1.73221317e-01,  1.78612599e+00,  5.49912673e-01,\n",
              "        5.84570106e-01,  4.95620578e-01,  1.32522795e+00,  9.05664757e-01,\n",
              "       -1.95142934e-02,  6.74369471e-01,  5.06336462e-01,  4.12756109e-01,\n",
              "        8.90870496e-01,  5.50716207e-01,  1.10994138e+00,  4.39287225e-01,\n",
              "        1.15089790e+00,  1.20725003e-01,  1.98842922e+00,  7.79291364e-01,\n",
              "        1.80988438e+00,  1.77642168e-01,  6.74505350e-01,  6.80876158e-01,\n",
              "        2.55531028e-01,  2.98750072e-01,  5.26204275e-01,  5.43252803e-01,\n",
              "       -1.11156866e-01,  2.00140618e+00,  1.41851701e+00,  4.52451992e-01,\n",
              "        2.16972433e-01,  2.42715404e-01,  6.31335091e-01,  1.06663627e+00,\n",
              "        1.75787527e-01,  1.75717468e+00,  4.44641224e-01,  6.94280190e-01,\n",
              "        3.75293671e-01,  1.84077180e+00,  1.18063557e+00,  1.50775124e+00,\n",
              "        2.20793168e-01,  8.65872121e-01,  1.60644414e+00,  4.97332032e-01,\n",
              "        1.02117880e+00,  2.31574829e-02,  2.53604425e-01,  9.90821222e-01,\n",
              "        6.49106128e-01,  1.56949424e+00,  1.43658582e+00,  1.38868427e+00,\n",
              "        5.40357807e-01,  3.07556554e-01,  4.26093370e-01,  2.29158222e-01,\n",
              "        6.81493256e-01,  7.49809433e-01,  7.28129990e-02,  1.25391396e+00,\n",
              "        5.67028199e-01,  3.49512128e-01,  8.52536428e-01,  2.84807485e+00,\n",
              "        1.18191730e+00,  1.74135086e+00,  3.34237675e-01,  1.17209984e+00,\n",
              "        1.53092760e+00,  1.14170455e+00,  3.23811358e-01,  4.36946126e-01,\n",
              "       -4.93729191e-02,  5.97672968e-01,  8.52623986e-02,  1.25699133e+00,\n",
              "        9.29863876e-01,  5.22756588e-01,  1.48758536e+00,  3.06199528e-01,\n",
              "        1.47943638e+00,  8.01206747e-01,  3.46869306e-01,  2.87702097e-01,\n",
              "        4.63707762e-01,  1.83796293e+00,  3.25259515e-01,  3.06442006e-01,\n",
              "        9.74608514e-01,  2.22899403e-01,  3.02856471e-01,  5.08494807e-02,\n",
              "        3.87335967e-02,  7.13919338e-03,  7.85930381e-01, -6.16300423e-02,\n",
              "        8.32399611e-01,  8.78548274e-02,  1.44960254e-01,  2.09493778e+00,\n",
              "        7.57175339e-01,  4.26151982e-01,  1.03051132e+00,  2.97163930e+00,\n",
              "        1.99147579e+00,  2.69119248e-02,  9.84332209e-01,  8.71293004e-01,\n",
              "        5.20117712e-01,  9.84665291e-01,  6.53372074e-01,  1.96455177e+00,\n",
              "        2.43877447e-01,  2.00155296e-01,  8.69821360e-01,  3.93500534e-01,\n",
              "        2.23387182e-01,  3.12083112e-01,  2.36874135e+00,  1.56274307e-01,\n",
              "       -5.48606980e-02,  1.02643223e+00,  1.34010363e+00,  1.25921034e+00,\n",
              "        6.33643846e-01,  1.16349101e+00,  1.62756056e+00,  1.08621591e+00,\n",
              "        1.83638276e-01,  6.39653370e-01, -7.36306123e-03,  3.98592976e-01,\n",
              "        3.63392347e-01,  4.21778772e-01,  1.67265492e+00,  5.10171204e-01,\n",
              "        2.78173300e-01,  9.02227077e-01,  1.19370245e+00,  1.06738217e+00,\n",
              "        4.71139525e-01,  5.51668734e-01,  2.79692436e-01,  1.37394296e+00,\n",
              "        1.32062749e-01,  1.49227492e-01,  1.94422356e-01,  1.63748685e-01,\n",
              "        1.25013038e+00,  1.51534272e+00,  1.57631761e+00,  1.00626144e+00,\n",
              "        1.00397043e+00,  1.97738079e+00,  6.33712419e-01,  1.29356795e+00,\n",
              "        1.50847507e+00,  9.43475307e-01,  7.22068621e-01,  2.20964356e+00,\n",
              "        1.10442150e+00,  2.67726973e-01,  2.59759584e+00,  2.30410120e+00,\n",
              "        1.33310137e+00,  1.52378388e+00,  1.17476529e+00,  2.32663873e+00,\n",
              "        1.29671960e+00,  4.35976872e-01,  5.68516843e-01,  8.95584612e-01,\n",
              "        8.53405628e-01,  2.72238515e-01,  7.18579556e-02,  4.71820055e-02,\n",
              "        8.33322631e-01,  7.13652660e-02,  1.84452324e+00,  7.94692113e-02,\n",
              "        7.82328573e-01,  1.09743580e+00,  1.60091780e-01,  1.34952689e+00,\n",
              "        8.95809532e-01,  1.42610298e+00,  1.20480529e+00,  1.08868468e+00,\n",
              "        1.11930053e+00,  2.50051237e-01,  5.04610879e-01,  9.04975506e-01,\n",
              "       -5.41667689e-02,  1.28141708e+00,  3.96956835e-01,  1.82554034e-01,\n",
              "        1.56621154e+00,  3.72419057e-01, -2.28370206e-02,  5.51653327e-01,\n",
              "        1.58972558e-01,  1.40591557e+00,  3.04142385e-01,  4.46270120e-01,\n",
              "        1.93309156e-01,  4.11916275e-01, -4.65513894e-02,  8.73964239e-02,\n",
              "        5.50832772e-01,  6.24226216e-01,  1.42679485e+00,  1.74082342e+00,\n",
              "        1.36211040e+00,  6.29314918e-01,  6.27046526e-01,  8.45498368e-01,\n",
              "        3.40256841e-01,  1.26800564e+00,  7.13603456e-01,  2.71029126e-01,\n",
              "        6.22271258e-01,  2.10992318e+00,  1.21736077e+00,  2.43850311e-01,\n",
              "        7.04681436e-01,  3.93713012e-01,  2.48983144e-01, -2.29824087e-03,\n",
              "        1.84849822e-01,  2.06016836e-01,  7.73367901e-01,  2.29980396e+00,\n",
              "        6.22848273e-01,  1.28433472e+00,  2.83876578e-01,  2.65572349e+00,\n",
              "        9.20202195e-01,  1.70369593e+00,  1.67079493e+00,  6.45761409e-01,\n",
              "        5.25657697e-01,  1.68860644e+00,  3.66709310e-01,  1.44418764e-01,\n",
              "        3.82130954e-01,  1.16536854e+00,  4.85136638e-01,  1.20748228e+00,\n",
              "       -5.55180369e-02,  8.98523154e-01,  2.13807495e-01,  1.45646642e+00,\n",
              "        3.16546525e-01,  9.79757851e-01,  2.12823849e+00,  3.70997303e-01,\n",
              "        1.09695850e+00,  1.16745508e+00,  1.75252032e+00,  3.75072134e-01,\n",
              "        9.60641980e-01,  3.56962258e-02,  5.99013152e-01,  1.15857023e-01,\n",
              "        6.59047173e-01,  1.02267829e+00,  2.36204351e-01,  1.28803957e+00,\n",
              "        2.87650147e-01,  8.67615174e-01,  7.82047416e-01,  1.22184687e+00,\n",
              "        1.12048926e+00,  5.57634030e-01,  1.15412729e+00,  3.11439882e-01,\n",
              "        1.09889231e+00,  3.29699610e-02,  2.37541932e+00,  2.77056599e-01,\n",
              "        2.57396585e-01,  2.61552824e-01, -3.88460212e-02,  2.19133360e-01,\n",
              "        8.23412795e-01,  8.54324766e-01,  8.28298696e-01,  1.27864952e+00,\n",
              "        1.74914237e+00,  4.80441208e-01,  1.15734529e+00,  2.00067512e+00,\n",
              "        5.59677146e-01,  2.57802725e+00, -2.44868972e-03,  7.53904059e-01,\n",
              "       -1.20905189e-03,  4.64067859e-02,  9.56147460e-01,  1.49369694e-01,\n",
              "        3.30787500e-01,  1.70539201e-01,  5.60102148e-01,  8.87808288e-01,\n",
              "        2.12298034e-01,  7.27098689e-01,  7.32423584e-01,  5.84560594e-01,\n",
              "        8.84125004e-02,  2.73024857e-02,  1.13369177e+00,  5.60667412e-01,\n",
              "        5.68103760e-02,  9.92338087e-01,  1.40620111e+00,  6.04569288e-01,\n",
              "        7.65631814e-02,  1.26337640e+00,  9.76350007e-01,  3.65128920e-01,\n",
              "        6.62040410e-01,  2.95512838e-01,  1.00100789e-01,  6.04571069e-01,\n",
              "        2.45988034e-02,  6.50705453e-01,  6.35976159e-02,  1.89912042e+00,\n",
              "        1.04330195e+00,  1.81890337e-01,  1.13448266e+00,  6.81440216e-01,\n",
              "        1.49390320e+00,  1.20558898e+00,  3.63417677e-01,  1.44780221e+00,\n",
              "        2.36526085e-01,  2.78178039e-01,  5.60540362e-01,  2.96015920e-01,\n",
              "        3.85547560e-01,  1.03866070e-01,  2.29313110e-01,  4.49192769e-02,\n",
              "        4.83727434e-01,  1.13239490e+00,  7.30576050e-01,  1.36835793e+00,\n",
              "        2.58889262e+00,  8.43833662e-01,  1.29109141e+00,  2.62656650e-01,\n",
              "        1.05883837e+00,  1.73164316e+00,  6.06793242e-01,  6.19469944e-01,\n",
              "        4.53056355e-01,  2.55218804e+00,  5.80277990e-01,  4.04127242e-01,\n",
              "        1.64831402e+00,  2.23112414e-01,  1.17660163e-01,  4.41820862e-01,\n",
              "       -3.24934869e-02,  8.57523153e-01,  1.12801910e+00,  5.13120981e-03,\n",
              "        8.04832705e-02,  1.09852479e+00,  5.52180660e-01,  7.57443754e-01,\n",
              "        1.87600210e-01,  1.64865697e+00,  1.34917025e+00,  1.55562435e+00,\n",
              "        1.57505453e+00,  6.41537832e-02,  7.01550576e-01,  9.02797162e-01,\n",
              "        6.43751306e-01,  1.84284645e+00,  5.78663857e-01,  5.80730072e-01,\n",
              "        2.18081008e+00,  6.07549965e-01,  7.41675917e-01,  2.22334142e-01,\n",
              "        1.27235527e+00,  1.46179708e+00,  1.20423371e-01,  6.46667642e-01,\n",
              "        2.73986830e-01,  7.66841785e-01,  1.85448496e+00,  7.11779333e-02,\n",
              "        3.71810918e-01,  3.95186820e-02,  1.43216924e+00,  1.06668960e+00,\n",
              "        1.21508035e+00,  6.46734218e-01,  1.11353093e+00,  5.51583781e-01,\n",
              "        1.12542303e+00,  6.88354588e-01,  1.15761920e+00,  6.19658399e-01,\n",
              "        1.54406766e+00,  1.57644428e+00,  2.40341465e-01,  3.63844648e-01,\n",
              "        1.40307399e+00,  7.06499491e-01,  3.41927905e-01,  2.06296291e+00,\n",
              "        5.39063471e-01,  9.50250227e-01,  1.11604120e-01,  3.01149200e-01,\n",
              "        1.55975863e+00,  3.73326554e-01,  6.39836625e-01,  1.18356324e+00,\n",
              "        3.85966771e-01,  8.39370948e-01,  1.19197490e+00,  1.90542767e+00,\n",
              "        2.10292441e+00,  1.10392159e+00,  1.08278243e-01,  3.08681455e-01,\n",
              "        3.62061486e-01,  7.10228470e-01,  8.53859596e-01,  5.97532633e-01,\n",
              "        1.43873344e-01,  2.44408256e-01,  2.60538932e-01,  1.68156339e+00,\n",
              "        4.45078670e-01,  5.71370331e-01,  8.33681620e-01,  1.30510995e+00,\n",
              "        5.15382390e-02,  1.22176753e+00,  3.47656516e-01,  6.21906376e-01,\n",
              "        4.96716863e-01,  5.60129558e-01,  1.15415011e+00, -4.75453929e-02,\n",
              "        2.16135830e-01,  1.61099777e+00,  2.32873878e-01,  2.51755067e+00,\n",
              "        6.30569846e-01,  1.60403790e+00,  6.91885475e-01,  4.03088406e-01,\n",
              "        1.33307248e+00,  7.16806462e-01,  1.30211022e-01,  1.14432261e+00,\n",
              "        1.60000350e-01,  9.69451497e-01,  4.91158162e-01,  6.73946140e-01,\n",
              "        1.58566728e+00,  3.96487806e-01,  1.12195435e+00,  4.21568686e-01,\n",
              "        1.29745814e+00,  3.71542563e-01,  2.11560598e-01, -1.22803774e-01,\n",
              "        7.50771932e-01,  7.16861294e-01,  1.43319969e-01,  5.62055225e-01,\n",
              "        1.01628398e+00,  3.66339298e-01,  6.58510912e-01,  1.99898356e-01,\n",
              "        1.91665595e+00,  4.73938049e-01,  1.68886679e-01,  1.01349475e+00,\n",
              "        1.44984759e+00,  1.75658884e+00,  1.51555853e+00,  1.06530352e+00,\n",
              "        5.50496286e-01,  2.47687295e+00,  6.10514900e-01,  3.27282163e-01,\n",
              "        1.40942965e+00,  2.07705397e+00,  2.02351488e+00,  1.17453216e+00,\n",
              "        1.09762524e+00,  6.23422719e-01,  8.31276334e-01,  4.52112312e-01,\n",
              "        8.47104734e-01,  6.42775426e-02,  2.77316542e-01,  5.33110182e-01,\n",
              "        9.86377272e-01,  1.07441446e+00, -4.64687844e-02,  1.33860790e+00,\n",
              "        1.08807566e+00,  1.38243482e-01,  6.58648885e-01,  1.88264240e+00,\n",
              "        9.47535228e-02,  8.85180666e-02,  1.51448545e+00,  4.06852445e-01,\n",
              "        1.04196990e+00,  1.76017295e+00,  1.23240813e+00,  8.76253236e-01,\n",
              "        1.88794309e-01,  9.85875092e-01,  2.78636907e-01,  1.13137461e+00,\n",
              "        1.91703443e+00,  1.59596860e+00,  2.81789622e-01,  1.22658859e+00,\n",
              "        1.87315208e-01,  1.85184131e+00,  3.76839469e-01,  2.38282787e-01,\n",
              "        5.05253202e-01,  1.61615140e+00,  6.08148600e-01,  4.38667514e-01,\n",
              "        1.28806427e+00,  2.85254157e+00,  9.79841883e-02,  1.63823033e+00,\n",
              "        1.63142070e+00,  4.85522960e-01,  3.57756081e-01,  5.09528931e-01,\n",
              "        1.13050871e+00,  2.44097050e-01,  8.63909804e-01,  1.42865201e+00,\n",
              "        2.57468269e-01,  3.89722424e-01,  6.87457333e-01,  7.84008644e-01,\n",
              "        3.11753276e-01,  4.18739924e-01,  6.46783977e-01,  7.98857051e-01,\n",
              "        1.51790007e+00,  1.77809750e-01,  1.22147670e-01,  7.34977218e-01,\n",
              "        2.50429241e+00,  9.05069681e-01,  6.44096792e-01,  3.20538933e-01,\n",
              "       -3.24290802e-02,  5.78169187e-01,  1.46937216e+00,  5.49772709e-01,\n",
              "        7.94127718e-01,  1.39220486e+00,  2.62282119e-01,  1.35484489e+00,\n",
              "        7.24893838e-01,  1.46109455e-01,  1.46142514e+00,  1.25815013e+00,\n",
              "        7.03021573e-01,  6.31242030e-01,  2.36599689e-01,  1.18165967e+00,\n",
              "        1.01606619e+00,  1.83123399e-01,  5.35791132e-01,  6.27408639e-01,\n",
              "        4.42959072e-02,  3.85403678e-01,  9.03089860e-01,  7.93954359e-02,\n",
              "        9.43688494e-01,  2.95235559e+00,  4.30132155e-01,  9.05222262e-01,\n",
              "        2.26678362e+00,  1.22829345e+00,  5.55712581e-01,  2.06830802e+00,\n",
              "        1.40102832e-01,  7.73336124e-01,  3.68712734e-01,  1.42971676e+00,\n",
              "        7.05979302e-01,  9.13602026e-01,  5.42472446e-01,  9.66958379e-01,\n",
              "        6.18871834e-02,  1.39715346e+00,  4.10737315e-01,  1.24246312e-01,\n",
              "        2.25534204e-01,  1.66863695e+00,  8.58677914e-01,  7.80998009e-02,\n",
              "        1.20001957e-01,  3.24376315e+00,  2.24217231e-01,  7.39901191e-01,\n",
              "        3.78740564e-01,  1.28760593e+00,  1.82809292e-01,  1.35262600e+00,\n",
              "        9.23008037e-01,  5.24482283e-01,  1.90477388e+00,  9.89006543e-01,\n",
              "        3.05461391e-01,  1.34410289e+00,  2.34342287e-02,  8.00830188e-01,\n",
              "        5.11837550e-01,  7.96067738e-01,  6.20724703e-01,  1.05582569e+00,\n",
              "        1.63961825e-01,  2.95022704e-01,  9.31413537e-01,  5.15160728e-01,\n",
              "        1.94954903e+00,  1.02263973e+00,  2.04131971e-01,  1.38351560e+00,\n",
              "        1.63588874e-01,  3.85241492e-01,  1.16554361e+00,  3.48094762e-01,\n",
              "        2.23082437e-01,  8.40978859e-01,  1.18304736e+00,  2.66649206e+00,\n",
              "        4.86431448e-01,  4.75353852e-01,  2.44245322e-01,  2.48866995e-01,\n",
              "        2.71347028e-01,  2.08906951e-01,  5.89734525e-02,  1.39964149e+00,\n",
              "        9.84448633e-01,  1.18927211e+00,  1.19360244e+00,  2.06545353e-01,\n",
              "        2.05189811e+00,  6.99169636e-01,  1.33664856e+00,  1.58789869e-01,\n",
              "        9.09946397e-01,  6.24910473e-01,  8.91404087e-01,  6.06272838e-01,\n",
              "        3.07077712e-01,  3.07090124e-01,  3.63898954e-01,  9.71449207e-01,\n",
              "        1.50700395e+00,  5.16009409e-01,  1.24590947e+00,  1.35806235e+00,\n",
              "        1.00284357e+00,  4.55692340e-01,  4.69303687e-01,  5.41301787e-02,\n",
              "        9.31998240e-01,  3.95573405e-01,  1.13984892e+00,  1.21324386e+00,\n",
              "        4.15617620e-01,  4.73662017e-02,  3.57185256e-01,  1.96677155e-01,\n",
              "        4.82618399e-01,  4.96833715e-01,  8.63061993e-01,  1.35268277e+00,\n",
              "        1.58972690e-01,  2.07173278e+00,  8.87727058e-01,  8.04952141e-01,\n",
              "        5.73255700e-01,  3.10924359e-01,  3.87378875e-01,  5.95315997e-01,\n",
              "        8.31799860e-01,  1.20605552e+00,  4.32591937e-01,  1.36070149e-01,\n",
              "        6.83652724e-01,  1.89283162e+00,  1.66942534e-01,  8.14127458e-01,\n",
              "        1.02014974e+00, -3.26925524e-02,  2.11214866e+00,  7.03979916e-01,\n",
              "        4.96088982e-01,  2.99044430e-01,  3.92573149e-01,  2.77638091e-01,\n",
              "        6.46989322e-01,  4.21031679e-01,  7.05005284e-01,  3.08582275e-01,\n",
              "        6.29778662e-01,  7.59744551e-01,  7.35511573e-01,  1.08096033e+00,\n",
              "        4.32659227e-01,  9.37529404e-01,  2.91584594e-01,  1.78077139e+00,\n",
              "        9.98803715e-02,  1.79918016e-01, -3.66855089e-02,  3.89219959e-01,\n",
              "        9.93691913e-01,  1.66112275e+00,  1.08180065e+00,  1.02843973e+00,\n",
              "        1.10023614e+00,  1.78709771e+00,  6.26501968e-02,  1.21884961e-01,\n",
              "        7.40343789e-02,  1.21164908e+00,  1.17445149e+00,  2.07672458e-01,\n",
              "        9.94370339e-01,  3.84077153e-01,  2.27081366e-01,  9.75732444e-01,\n",
              "        2.51514030e+00,  8.31032466e-01,  6.97179016e-01,  1.83655673e+00,\n",
              "        5.01307540e-01,  1.32189954e+00,  1.17360673e-01,  8.72693726e-01,\n",
              "        1.49177640e+00,  1.37035087e+00,  1.69446623e+00,  6.58412044e-01,\n",
              "        1.64150471e-01,  1.65685989e+00,  2.19650444e-01,  7.57434443e-01,\n",
              "        2.15682417e+00,  1.29764513e-01,  7.12066946e-02,  5.29199303e-01,\n",
              "        2.29022768e-02,  1.61235150e+00,  6.37148958e-01,  3.95483754e-02,\n",
              "        7.87657470e-01,  1.34181766e+00,  6.34223835e-01,  6.08828845e-02,\n",
              "        4.33317447e-01,  6.41278412e-01,  1.31232048e+00,  1.47347192e-01,\n",
              "        1.61697569e+00,  6.52596656e-01,  3.35521175e-02,  1.48533543e+00,\n",
              "        3.84292003e-01,  8.77392025e-01,  2.72204789e-01,  1.35185067e+00,\n",
              "        1.80665870e+00,  5.89895597e-02,  2.00432906e-01,  5.75798415e-01,\n",
              "        2.09010260e-01,  8.32659255e-01,  2.60442183e-01,  9.69775690e-01])"
            ]
          },
          "metadata": {},
          "execution_count": 34
        }
      ]
    },
    {
      "cell_type": "code",
      "source": [
        "fig, ax = plt.subplots()\n",
        "plt.axvline(x = np.mean(x), color='orange')\n",
        "plt.axvline(x = np.median(x), color='green')\n",
        "_ = plt.hist(x, color = 'lightgray')"
      ],
      "metadata": {
        "colab": {
          "base_uri": "https://localhost:8080/",
          "height": 430
        },
        "id": "UP0BHNaesTIO",
        "outputId": "ccf9fade-99c9-46cd-cda0-5bfe8440b2ea"
      },
      "execution_count": 35,
      "outputs": [
        {
          "output_type": "display_data",
          "data": {
            "text/plain": [
              "<Figure size 640x480 with 1 Axes>"
            ],
            "image/png": "[encoded data removed]"
          },
          "metadata": {}
        }
      ]
    },
    {
      "cell_type": "markdown",
      "source": [
        "#Quantiles"
      ],
      "metadata": {
        "id": "O0He3c_5tMb9"
      }
    },
    {
      "cell_type": "code",
      "source": [
        "np.median(x)"
      ],
      "metadata": {
        "colab": {
          "base_uri": "https://localhost:8080/"
        },
        "id": "c1xbeqPfsock",
        "outputId": "ae4ea6aa-d85f-4592-f4ca-6413ac41b0e3"
      },
      "execution_count": 36,
      "outputs": [
        {
          "output_type": "execute_result",
          "data": {
            "text/plain": [
              "0.6467009300143969"
            ]
          },
          "metadata": {},
          "execution_count": 36
        }
      ]
    },
    {
      "cell_type": "code",
      "source": [
        "np.quantile(x,0.5)"
      ],
      "metadata": {
        "colab": {
          "base_uri": "https://localhost:8080/"
        },
        "id": "XdZf9RI8s5VY",
        "outputId": "4d813893-827f-4299-dcdf-bcec4674bf2c"
      },
      "execution_count": 37,
      "outputs": [
        {
          "output_type": "execute_result",
          "data": {
            "text/plain": [
              "0.6467009300143969"
            ]
          },
          "metadata": {},
          "execution_count": 37
        }
      ]
    },
    {
      "cell_type": "markdown",
      "source": [
        "Generally speaking, quantiles divide up distributions and the most common are:\n",
        "\n",
        "Percentiles,\n",
        "Quartiles, and\n",
        "Deciles."
      ],
      "metadata": {
        "id": "51VI_kP8tV2y"
      }
    },
    {
      "cell_type": "markdown",
      "source": [
        "**Percentiles** divide the distribution at any point out of one hundred (\"pour cent\" is French for \"out of a hundred\"). For example, if we'd like to identify the threshold for the top 5% of a distribution, we'd cut it at the 95th percentile. Or, for the top 1%, we'd cut at the 99th percentile."
      ],
      "metadata": {
        "id": "zjgVG0PctiTz"
      }
    },
    {
      "cell_type": "code",
      "source": [
        "p = np.percentile(x,[95,99])\n",
        "p"
      ],
      "metadata": {
        "colab": {
          "base_uri": "https://localhost:8080/"
        },
        "id": "aaTJvk62tVJl",
        "outputId": "fd897d50-50d6-4c85-b00d-ade7097b684a"
      },
      "execution_count": 38,
      "outputs": [
        {
          "output_type": "execute_result",
          "data": {
            "text/plain": [
              "array([1.92577862, 2.57813591])"
            ]
          },
          "metadata": {},
          "execution_count": 38
        }
      ]
    },
    {
      "cell_type": "code",
      "source": [
        "fig,ax = plt.subplots()\n",
        "plt.axvline(p[0],color = 'orange')\n",
        "plt.axvline(p[1],color = 'green')\n",
        "_ = ax.hist(x,color = 'lightgray')"
      ],
      "metadata": {
        "colab": {
          "base_uri": "https://localhost:8080/",
          "height": 430
        },
        "id": "T8-KyPcqtxYm",
        "outputId": "57d2b51c-9413-4b0b-9816-a815d4991337"
      },
      "execution_count": 39,
      "outputs": [
        {
          "output_type": "display_data",
          "data": {
            "text/plain": [
              "<Figure size 640x480 with 1 Axes>"
            ],
            "image/png": "[encoded data removed]"
          },
          "metadata": {}
        }
      ]
    },
    {
      "cell_type": "markdown",
      "source": [
        "*Note* that the Numpy quantile() method is identical to the percentile() method except we pass proportions (ranging from zero to one) into the former and percentages (ranging from zero to 100) into the latter:"
      ],
      "metadata": {
        "id": "cGMhOWTZuQ_Y"
      }
    },
    {
      "cell_type": "code",
      "source": [
        "np.quantile(x,[0.95,0.99])"
      ],
      "metadata": {
        "colab": {
          "base_uri": "https://localhost:8080/"
        },
        "id": "5VIWXjgluU50",
        "outputId": "0f05a666-f1b3-40c7-f782-4da596569bcd"
      },
      "execution_count": 40,
      "outputs": [
        {
          "output_type": "execute_result",
          "data": {
            "text/plain": [
              "array([1.92577862, 2.57813591])"
            ]
          },
          "metadata": {},
          "execution_count": 40
        }
      ]
    },
    {
      "cell_type": "markdown",
      "source": [
        "**Quartiles**, as their name suggests, are quantiles that divide a distribution into quarters by splitting the distribution at the 25th percentile, the median (a.k.a. the 50th percentile), and the 75th percentile:"
      ],
      "metadata": {
        "id": "s8y47MYVuoqD"
      }
    },
    {
      "cell_type": "code",
      "source": [
        "q = np.percentile(x,[25,50,75])\n",
        "q"
      ],
      "metadata": {
        "colab": {
          "base_uri": "https://localhost:8080/"
        },
        "id": "bv4qxvc3uqqa",
        "outputId": "b1a886a5-3be5-4f44-b9a5-e2c068fc81ca"
      },
      "execution_count": 41,
      "outputs": [
        {
          "output_type": "execute_result",
          "data": {
            "text/plain": [
              "array([0.30382091, 0.64670093, 1.16602148])"
            ]
          },
          "metadata": {},
          "execution_count": 41
        }
      ]
    },
    {
      "cell_type": "code",
      "source": [
        "np.quantile(x,[0.25,0.50,0.75])"
      ],
      "metadata": {
        "colab": {
          "base_uri": "https://localhost:8080/"
        },
        "id": "UBeSO1V9u0Ee",
        "outputId": "0dbb85a9-c491-4f58-c842-02bee01197b6"
      },
      "execution_count": 42,
      "outputs": [
        {
          "output_type": "execute_result",
          "data": {
            "text/plain": [
              "array([0.30382091, 0.64670093, 1.16602148])"
            ]
          },
          "metadata": {},
          "execution_count": 42
        }
      ]
    },
    {
      "cell_type": "code",
      "source": [
        "fig,ax = plt.subplots()\n",
        "plt.axvline(q[0],color = 'orange')\n",
        "plt.axvline(q[1],color = 'red')\n",
        "plt.axvline(q[2],color = 'green')\n",
        "\n",
        "_=ax.hist(x,color = 'lightgray')"
      ],
      "metadata": {
        "colab": {
          "base_uri": "https://localhost:8080/",
          "height": 430
        },
        "id": "5q7nvGItu4kH",
        "outputId": "7305710c-8b23-4a08-d40e-32c804a89986"
      },
      "execution_count": 43,
      "outputs": [
        {
          "output_type": "display_data",
          "data": {
            "text/plain": [
              "<Figure size 640x480 with 1 Axes>"
            ],
            "image/png": "[encoded data removed]"
          },
          "metadata": {}
        }
      ]
    },
    {
      "cell_type": "markdown",
      "source": [
        "Finally, **deciles** (from Latin decimus, meaning \"tenth\") divide a distribution into ten evenly-sized segment"
      ],
      "metadata": {
        "id": "ZBWfIN6kvehv"
      }
    },
    {
      "cell_type": "code",
      "source": [
        "[i for i  in range(10,100,10)]\n"
      ],
      "metadata": {
        "colab": {
          "base_uri": "https://localhost:8080/"
        },
        "id": "W03zMOgovbyT",
        "outputId": "b87881fa-2d85-4f07-8243-0842df556f04"
      },
      "execution_count": 44,
      "outputs": [
        {
          "output_type": "execute_result",
          "data": {
            "text/plain": [
              "[10, 20, 30, 40, 50, 60, 70, 80, 90]"
            ]
          },
          "metadata": {},
          "execution_count": 44
        }
      ]
    },
    {
      "cell_type": "code",
      "source": [
        "d = np.percentile(x,range(10,100,10))\n",
        "d"
      ],
      "metadata": {
        "colab": {
          "base_uri": "https://localhost:8080/"
        },
        "id": "wu8CofEdab0S",
        "outputId": "eb059673-a13f-4fd7-807b-b1f416701215"
      },
      "execution_count": 45,
      "outputs": [
        {
          "output_type": "execute_result",
          "data": {
            "text/plain": [
              "array([0.12421232, 0.24405313, 0.37522721, 0.51383146, 0.64670093,\n",
              "       0.83292461, 1.04705907, 1.29419828, 1.61884833])"
            ]
          },
          "metadata": {},
          "execution_count": 45
        }
      ]
    },
    {
      "cell_type": "code",
      "source": [
        "fig, ax = plt.subplots()\n",
        "[plt.axvline(x=d_i, color = 'blue') for d_i in d]\n",
        "_ = ax.hist(x, color = 'lightgray')"
      ],
      "metadata": {
        "colab": {
          "base_uri": "https://localhost:8080/",
          "height": 430
        },
        "id": "vQwDctxAawVe",
        "outputId": "d6a55201-a631-4efb-9623-dcc2f2dc6159"
      },
      "execution_count": 46,
      "outputs": [
        {
          "output_type": "display_data",
          "data": {
            "text/plain": [
              "<Figure size 640x480 with 1 Axes>"
            ],
            "image/png": "[encoded data removed]"
          },
          "metadata": {}
        }
      ]
    },
    {
      "cell_type": "markdown",
      "source": [
        "##The Box-and-Whisker Plot"
      ],
      "metadata": {
        "id": "RFXw1EJUcDjH"
      }
    },
    {
      "cell_type": "code",
      "source": [
        "import seaborn as sns\n",
        "sns.set(style = 'whitegrid')"
      ],
      "metadata": {
        "id": "NdosMvtAcEz9"
      },
      "execution_count": 47,
      "outputs": []
    },
    {
      "cell_type": "code",
      "source": [
        "_=sns.boxplot(x=x)"
      ],
      "metadata": {
        "colab": {
          "base_uri": "https://localhost:8080/",
          "height": 434
        },
        "id": "oEwtphc8cVYU",
        "outputId": "23c1d5b3-3de0-4a53-e443-4870ee40d175"
      },
      "execution_count": 48,
      "outputs": [
        {
          "output_type": "display_data",
          "data": {
            "text/plain": [
              "<Figure size 640x480 with 1 Axes>"
            ],
            "image/png": "[encoded data removed]"
          },
          "metadata": {}
        }
      ]
    },
    {
      "cell_type": "code",
      "source": [
        "q"
      ],
      "metadata": {
        "colab": {
          "base_uri": "https://localhost:8080/"
        },
        "id": "4vhCpyVNc_zN",
        "outputId": "94ef3530-5b1c-48ce-f107-eb1c2c12de33"
      },
      "execution_count": 49,
      "outputs": [
        {
          "output_type": "execute_result",
          "data": {
            "text/plain": [
              "array([0.30382091, 0.64670093, 1.16602148])"
            ]
          },
          "metadata": {},
          "execution_count": 49
        }
      ]
    },
    {
      "cell_type": "markdown",
      "source": [
        "IQR (Inter quartile range) is the difference between first and last quartile"
      ],
      "metadata": {
        "id": "6i5Ae8hvdFU1"
      }
    },
    {
      "cell_type": "code",
      "source": [
        "r = q[2]-q[0]\n",
        "r"
      ],
      "metadata": {
        "colab": {
          "base_uri": "https://localhost:8080/"
        },
        "id": "1QdBntiMdMu1",
        "outputId": "75fc7872-67c0-4db2-f7d3-d4805da1aa74"
      },
      "execution_count": 50,
      "outputs": [
        {
          "output_type": "execute_result",
          "data": {
            "text/plain": [
              "0.8622005707177951"
            ]
          },
          "metadata": {},
          "execution_count": 50
        }
      ]
    },
    {
      "cell_type": "markdown",
      "source": [
        "Whisker lengths are determined by furthest data points within\n",
        "1.5 X r of the box edges.\n",
        "\n",
        "In this case, the lower whisker could stretch as far down (to the left in the plot) as:"
      ],
      "metadata": {
        "id": "xGsLw6-7dUwh"
      }
    },
    {
      "cell_type": "code",
      "source": [
        "q[0] -r*1.5   # Lower Whisker"
      ],
      "metadata": {
        "colab": {
          "base_uri": "https://localhost:8080/"
        },
        "id": "Mwy_1LN9dAZy",
        "outputId": "b04e0319-81c1-48bd-cff9-93788066fe39"
      },
      "execution_count": 51,
      "outputs": [
        {
          "output_type": "execute_result",
          "data": {
            "text/plain": [
              "-0.9894799498169269"
            ]
          },
          "metadata": {},
          "execution_count": 51
        }
      ]
    },
    {
      "cell_type": "code",
      "source": [
        "q[2] + 1.5*r  # Upper Whisker"
      ],
      "metadata": {
        "colab": {
          "base_uri": "https://localhost:8080/"
        },
        "id": "pUDBDFWld8lk",
        "outputId": "2df7e7e0-1eec-4d22-f4e7-0e6218f91018"
      },
      "execution_count": 52,
      "outputs": [
        {
          "output_type": "execute_result",
          "data": {
            "text/plain": [
              "2.4593223330542533"
            ]
          },
          "metadata": {},
          "execution_count": 52
        }
      ]
    },
    {
      "cell_type": "code",
      "source": [
        "np.min(x)"
      ],
      "metadata": {
        "colab": {
          "base_uri": "https://localhost:8080/"
        },
        "id": "1cDJoasIeCCQ",
        "outputId": "edde83ff-a912-42ca-c07b-b6115039db8a"
      },
      "execution_count": 53,
      "outputs": [
        {
          "output_type": "execute_result",
          "data": {
            "text/plain": [
              "-0.12943889979661558"
            ]
          },
          "metadata": {},
          "execution_count": 53
        }
      ]
    },
    {
      "cell_type": "code",
      "source": [
        "x.sort()"
      ],
      "metadata": {
        "id": "gctSjLezeS90"
      },
      "execution_count": 54,
      "outputs": []
    },
    {
      "cell_type": "code",
      "source": [
        "x[-20:]"
      ],
      "metadata": {
        "colab": {
          "base_uri": "https://localhost:8080/"
        },
        "id": "4w--nRoGeoyu",
        "outputId": "733e05ab-8199-43f0-e69c-c7f0d694d896"
      },
      "execution_count": 55,
      "outputs": [
        {
          "output_type": "execute_result",
          "data": {
            "text/plain": [
              "array([2.32663873, 2.35692733, 2.36874135, 2.37541932, 2.47687295,\n",
              "       2.50429241, 2.5151403 , 2.51755067, 2.55218804, 2.57802725,\n",
              "       2.58889262, 2.59759584, 2.61039807, 2.65572349, 2.66649206,\n",
              "       2.84807485, 2.85254157, 2.95235559, 2.9716393 , 3.24376315])"
            ]
          },
          "metadata": {},
          "execution_count": 55
        }
      ]
    },
    {
      "cell_type": "markdown",
      "source": [
        "There are several (sixteen) values beyond this threshold in the distribution. These values are considered outliers and are plotted as individual points:"
      ],
      "metadata": {
        "id": "GpAd0rY1eQA0"
      }
    },
    {
      "cell_type": "code",
      "source": [
        "iris = sns.load_dataset('iris')\n",
        "iris"
      ],
      "metadata": {
        "colab": {
          "base_uri": "https://localhost:8080/",
          "height": 423
        },
        "id": "mXsesnOAeR_t",
        "outputId": "379ff2ba-018c-49dd-f134-2f0830d4c14e"
      },
      "execution_count": 56,
      "outputs": [
        {
          "output_type": "execute_result",
          "data": {
            "text/plain": [
              "     sepal_length  sepal_width  petal_length  petal_width    species\n",
              "0             5.1          3.5           1.4          0.2     setosa\n",
              "1             4.9          3.0           1.4          0.2     setosa\n",
              "2             4.7          3.2           1.3          0.2     setosa\n",
              "3             4.6          3.1           1.5          0.2     setosa\n",
              "4             5.0          3.6           1.4          0.2     setosa\n",
              "..            ...          ...           ...          ...        ...\n",
              "145           6.7          3.0           5.2          2.3  virginica\n",
              "146           6.3          2.5           5.0          1.9  virginica\n",
              "147           6.5          3.0           5.2          2.0  virginica\n",
              "148           6.2          3.4           5.4          2.3  virginica\n",
              "149           5.9          3.0           5.1          1.8  virginica\n",
              "\n",
              "[150 rows x 5 columns]"
            ],
            "text/html": [
              "\n",
              "  <div id=\"df-6b0234fb-f85e-4f46-ac6a-c3f4225b1098\" class=\"colab-df-container\">\n",
              "    <div>\n",
              "<style scoped>\n",
              "    .dataframe tbody tr th:only-of-type {\n",
              "        vertical-align: middle;\n",
              "    }\n",
              "\n",
              "    .dataframe tbody tr th {\n",
              "        vertical-align: top;\n",
              "    }\n",
              "\n",
              "    .dataframe thead th {\n",
              "        text-align: right;\n",
              "    }\n",
              "</style>\n",
              "<table border=\"1\" class=\"dataframe\">\n",
              "  <thead>\n",
              "    <tr style=\"text-align: right;\">\n",
              "      <th></th>\n",
              "      <th>sepal_length</th>\n",
              "      <th>sepal_width</th>\n",
              "      <th>petal_length</th>\n",
              "      <th>petal_width</th>\n",
              "      <th>species</th>\n",
              "    </tr>\n",
              "  </thead>\n",
              "  <tbody>\n",
              "    <tr>\n",
              "      <th>0</th>\n",
              "      <td>5.1</td>\n",
              "      <td>3.5</td>\n",
              "      <td>1.4</td>\n",
              "      <td>0.2</td>\n",
              "      <td>setosa</td>\n",
              "    </tr>\n",
              "    <tr>\n",
              "      <th>1</th>\n",
              "      <td>4.9</td>\n",
              "      <td>3.0</td>\n",
              "      <td>1.4</td>\n",
              "      <td>0.2</td>\n",
              "      <td>setosa</td>\n",
              "    </tr>\n",
              "    <tr>\n",
              "      <th>2</th>\n",
              "      <td>4.7</td>\n",
              "      <td>3.2</td>\n",
              "      <td>1.3</td>\n",
              "      <td>0.2</td>\n",
              "      <td>setosa</td>\n",
              "    </tr>\n",
              "    <tr>\n",
              "      <th>3</th>\n",
              "      <td>4.6</td>\n",
              "      <td>3.1</td>\n",
              "      <td>1.5</td>\n",
              "      <td>0.2</td>\n",
              "      <td>setosa</td>\n",
              "    </tr>\n",
              "    <tr>\n",
              "      <th>4</th>\n",
              "      <td>5.0</td>\n",
              "      <td>3.6</td>\n",
              "      <td>1.4</td>\n",
              "      <td>0.2</td>\n",
              "      <td>setosa</td>\n",
              "    </tr>\n",
              "    <tr>\n",
              "      <th>...</th>\n",
              "      <td>...</td>\n",
              "      <td>...</td>\n",
              "      <td>...</td>\n",
              "      <td>...</td>\n",
              "      <td>...</td>\n",
              "    </tr>\n",
              "    <tr>\n",
              "      <th>145</th>\n",
              "      <td>6.7</td>\n",
              "      <td>3.0</td>\n",
              "      <td>5.2</td>\n",
              "      <td>2.3</td>\n",
              "      <td>virginica</td>\n",
              "    </tr>\n",
              "    <tr>\n",
              "      <th>146</th>\n",
              "      <td>6.3</td>\n",
              "      <td>2.5</td>\n",
              "      <td>5.0</td>\n",
              "      <td>1.9</td>\n",
              "      <td>virginica</td>\n",
              "    </tr>\n",
              "    <tr>\n",
              "      <th>147</th>\n",
              "      <td>6.5</td>\n",
              "      <td>3.0</td>\n",
              "      <td>5.2</td>\n",
              "      <td>2.0</td>\n",
              "      <td>virginica</td>\n",
              "    </tr>\n",
              "    <tr>\n",
              "      <th>148</th>\n",
              "      <td>6.2</td>\n",
              "      <td>3.4</td>\n",
              "      <td>5.4</td>\n",
              "      <td>2.3</td>\n",
              "      <td>virginica</td>\n",
              "    </tr>\n",
              "    <tr>\n",
              "      <th>149</th>\n",
              "      <td>5.9</td>\n",
              "      <td>3.0</td>\n",
              "      <td>5.1</td>\n",
              "      <td>1.8</td>\n",
              "      <td>virginica</td>\n",
              "    </tr>\n",
              "  </tbody>\n",
              "</table>\n",
              "<p>150 rows × 5 columns</p>\n",
              "</div>\n",
              "    <div class=\"colab-df-buttons\">\n",
              "\n",
              "  <div class=\"colab-df-container\">\n",
              "    <button class=\"colab-df-convert\" onclick=\"convertToInteractive('df-6b0234fb-f85e-4f46-ac6a-c3f4225b1098')\"\n",
              "            title=\"Convert this dataframe to an interactive table.\"\n",
              "            style=\"display:none;\">\n",
              "\n",
              "  <svg xmlns=\"http://www.w3.org/2000/svg\" height=\"24px\" viewBox=\"0 -960 960 960\">\n",
              "    <path d=\"M120-120v-720h720v720H120Zm60-500h600v-160H180v160Zm220 220h160v-160H400v160Zm0 220h160v-160H400v160ZM180-400h160v-160H180v160Zm440 0h160v-160H620v160ZM180-180h160v-160H180v160Zm440 0h160v-160H620v160Z\"/>\n",
              "  </svg>\n",
              "    </button>\n",
              "\n",
              "  <style>\n",
              "    .colab-df-container {\n",
              "      display:flex;\n",
              "      gap: 12px;\n",
              "    }\n",
              "\n",
              "    .colab-df-convert {\n",
              "      background-color: #E8F0FE;\n",
              "      border: none;\n",
              "      border-radius: 50%;\n",
              "      cursor: pointer;\n",
              "      display: none;\n",
              "      fill: #1967D2;\n",
              "      height: 32px;\n",
              "      padding: 0 0 0 0;\n",
              "      width: 32px;\n",
              "    }\n",
              "\n",
              "    .colab-df-convert:hover {\n",
              "      background-color: #E2EBFA;\n",
              "      box-shadow: 0px 1px 2px rgba(60, 64, 67, 0.3), 0px 1px 3px 1px rgba(60, 64, 67, 0.15);\n",
              "      fill: #174EA6;\n",
              "    }\n",
              "\n",
              "    .colab-df-buttons div {\n",
              "      margin-bottom: 4px;\n",
              "    }\n",
              "\n",
              "    [theme=dark] .colab-df-convert {\n",
              "      background-color: #3B4455;\n",
              "      fill: #D2E3FC;\n",
              "    }\n",
              "\n",
              "    [theme=dark] .colab-df-convert:hover {\n",
              "      background-color: #434B5C;\n",
              "      box-shadow: 0px 1px 3px 1px rgba(0, 0, 0, 0.15);\n",
              "      filter: drop-shadow(0px 1px 2px rgba(0, 0, 0, 0.3));\n",
              "      fill: #FFFFFF;\n",
              "    }\n",
              "  </style>\n",
              "\n",
              "    <script>\n",
              "      const buttonEl =\n",
              "        document.querySelector('#df-6b0234fb-f85e-4f46-ac6a-c3f4225b1098 button.colab-df-convert');\n",
              "      buttonEl.style.display =\n",
              "        google.colab.kernel.accessAllowed ? 'block' : 'none';\n",
              "\n",
              "      async function convertToInteractive(key) {\n",
              "        const element = document.querySelector('#df-6b0234fb-f85e-4f46-ac6a-c3f4225b1098');\n",
              "        const dataTable =\n",
              "          await google.colab.kernel.invokeFunction('convertToInteractive',\n",
              "                                                    [key], {});\n",
              "        if (!dataTable) return;\n",
              "\n",
              "        const docLinkHtml = 'Like what you see? Visit the ' +\n",
              "          '<a target=\"_blank\" href=https://colab.research.google.com/notebooks/data_table.ipynb>data table notebook</a>'\n",
              "          + ' to learn more about interactive tables.';\n",
              "        element.innerHTML = '';\n",
              "        dataTable['output_type'] = 'display_data';\n",
              "        await google.colab.output.renderOutput(dataTable, element);\n",
              "        const docLink = document.createElement('div');\n",
              "        docLink.innerHTML = docLinkHtml;\n",
              "        element.appendChild(docLink);\n",
              "      }\n",
              "    </script>\n",
              "  </div>\n",
              "\n",
              "\n",
              "<div id=\"df-12faa122-a6a9-4302-86ea-41f28b04ed97\">\n",
              "  <button class=\"colab-df-quickchart\" onclick=\"quickchart('df-12faa122-a6a9-4302-86ea-41f28b04ed97')\"\n",
              "            title=\"Suggest charts\"\n",
              "            style=\"display:none;\">\n",
              "\n",
              "<svg xmlns=\"http://www.w3.org/2000/svg\" height=\"24px\"viewBox=\"0 0 24 24\"\n",
              "     width=\"24px\">\n",
              "    <g>\n",
              "        <path d=\"M19 3H5c-1.1 0-2 .9-2 2v14c0 1.1.9 2 2 2h14c1.1 0 2-.9 2-2V5c0-1.1-.9-2-2-2zM9 17H7v-7h2v7zm4 0h-2V7h2v10zm4 0h-2v-4h2v4z\"/>\n",
              "    </g>\n",
              "</svg>\n",
              "  </button>\n",
              "\n",
              "<style>\n",
              "  .colab-df-quickchart {\n",
              "      --bg-color: #E8F0FE;\n",
              "      --fill-color: #1967D2;\n",
              "      --hover-bg-color: #E2EBFA;\n",
              "      --hover-fill-color: #174EA6;\n",
              "      --disabled-fill-color: #AAA;\n",
              "      --disabled-bg-color: #DDD;\n",
              "  }\n",
              "\n",
              "  [theme=dark] .colab-df-quickchart {\n",
              "      --bg-color: #3B4455;\n",
              "      --fill-color: #D2E3FC;\n",
              "      --hover-bg-color: #434B5C;\n",
              "      --hover-fill-color: #FFFFFF;\n",
              "      --disabled-bg-color: #3B4455;\n",
              "      --disabled-fill-color: #666;\n",
              "  }\n",
              "\n",
              "  .colab-df-quickchart {\n",
              "    background-color: var(--bg-color);\n",
              "    border: none;\n",
              "    border-radius: 50%;\n",
              "    cursor: pointer;\n",
              "    display: none;\n",
              "    fill: var(--fill-color);\n",
              "    height: 32px;\n",
              "    padding: 0;\n",
              "    width: 32px;\n",
              "  }\n",
              "\n",
              "  .colab-df-quickchart:hover {\n",
              "    background-color: var(--hover-bg-color);\n",
              "    box-shadow: 0 1px 2px rgba(60, 64, 67, 0.3), 0 1px 3px 1px rgba(60, 64, 67, 0.15);\n",
              "    fill: var(--button-hover-fill-color);\n",
              "  }\n",
              "\n",
              "  .colab-df-quickchart-complete:disabled,\n",
              "  .colab-df-quickchart-complete:disabled:hover {\n",
              "    background-color: var(--disabled-bg-color);\n",
              "    fill: var(--disabled-fill-color);\n",
              "    box-shadow: none;\n",
              "  }\n",
              "\n",
              "  .colab-df-spinner {\n",
              "    border: 2px solid var(--fill-color);\n",
              "    border-color: transparent;\n",
              "    border-bottom-color: var(--fill-color);\n",
              "    animation:\n",
              "      spin 1s steps(1) infinite;\n",
              "  }\n",
              "\n",
              "  @keyframes spin {\n",
              "    0% {\n",
              "      border-color: transparent;\n",
              "      border-bottom-color: var(--fill-color);\n",
              "      border-left-color: var(--fill-color);\n",
              "    }\n",
              "    20% {\n",
              "      border-color: transparent;\n",
              "      border-left-color: var(--fill-color);\n",
              "      border-top-color: var(--fill-color);\n",
              "    }\n",
              "    30% {\n",
              "      border-color: transparent;\n",
              "      border-left-color: var(--fill-color);\n",
              "      border-top-color: var(--fill-color);\n",
              "      border-right-color: var(--fill-color);\n",
              "    }\n",
              "    40% {\n",
              "      border-color: transparent;\n",
              "      border-right-color: var(--fill-color);\n",
              "      border-top-color: var(--fill-color);\n",
              "    }\n",
              "    60% {\n",
              "      border-color: transparent;\n",
              "      border-right-color: var(--fill-color);\n",
              "    }\n",
              "    80% {\n",
              "      border-color: transparent;\n",
              "      border-right-color: var(--fill-color);\n",
              "      border-bottom-color: var(--fill-color);\n",
              "    }\n",
              "    90% {\n",
              "      border-color: transparent;\n",
              "      border-bottom-color: var(--fill-color);\n",
              "    }\n",
              "  }\n",
              "</style>\n",
              "\n",
              "  <script>\n",
              "    async function quickchart(key) {\n",
              "      const quickchartButtonEl =\n",
              "        document.querySelector('#' + key + ' button');\n",
              "      quickchartButtonEl.disabled = true;  // To prevent multiple clicks.\n",
              "      quickchartButtonEl.classList.add('colab-df-spinner');\n",
              "      try {\n",
              "        const charts = await google.colab.kernel.invokeFunction(\n",
              "            'suggestCharts', [key], {});\n",
              "      } catch (error) {\n",
              "        console.error('Error during call to suggestCharts:', error);\n",
              "      }\n",
              "      quickchartButtonEl.classList.remove('colab-df-spinner');\n",
              "      quickchartButtonEl.classList.add('colab-df-quickchart-complete');\n",
              "    }\n",
              "    (() => {\n",
              "      let quickchartButtonEl =\n",
              "        document.querySelector('#df-12faa122-a6a9-4302-86ea-41f28b04ed97 button');\n",
              "      quickchartButtonEl.style.display =\n",
              "        google.colab.kernel.accessAllowed ? 'block' : 'none';\n",
              "    })();\n",
              "  </script>\n",
              "</div>\n",
              "\n",
              "  <div id=\"id_df63157f-a6ed-4c9d-aac0-47fc7fd80c41\">\n",
              "    <style>\n",
              "      .colab-df-generate {\n",
              "        background-color: #E8F0FE;\n",
              "        border: none;\n",
              "        border-radius: 50%;\n",
              "        cursor: pointer;\n",
              "        display: none;\n",
              "        fill: #1967D2;\n",
              "        height: 32px;\n",
              "        padding: 0 0 0 0;\n",
              "        width: 32px;\n",
              "      }\n",
              "\n",
              "      .colab-df-generate:hover {\n",
              "        background-color: #E2EBFA;\n",
              "        box-shadow: 0px 1px 2px rgba(60, 64, 67, 0.3), 0px 1px 3px 1px rgba(60, 64, 67, 0.15);\n",
              "        fill: #174EA6;\n",
              "      }\n",
              "\n",
              "      [theme=dark] .colab-df-generate {\n",
              "        background-color: #3B4455;\n",
              "        fill: #D2E3FC;\n",
              "      }\n",
              "\n",
              "      [theme=dark] .colab-df-generate:hover {\n",
              "        background-color: #434B5C;\n",
              "        box-shadow: 0px 1px 3px 1px rgba(0, 0, 0, 0.15);\n",
              "        filter: drop-shadow(0px 1px 2px rgba(0, 0, 0, 0.3));\n",
              "        fill: #FFFFFF;\n",
              "      }\n",
              "    </style>\n",
              "    <button class=\"colab-df-generate\" onclick=\"generateWithVariable('iris')\"\n",
              "            title=\"Generate code using this dataframe.\"\n",
              "            style=\"display:none;\">\n",
              "\n",
              "  <svg xmlns=\"http://www.w3.org/2000/svg\" height=\"24px\"viewBox=\"0 0 24 24\"\n",
              "       width=\"24px\">\n",
              "    <path d=\"M7,19H8.4L18.45,9,17,7.55,7,17.6ZM5,21V16.75L18.45,3.32a2,2,0,0,1,2.83,0l1.4,1.43a1.91,1.91,0,0,1,.58,1.4,1.91,1.91,0,0,1-.58,1.4L9.25,21ZM18.45,9,17,7.55Zm-12,3A5.31,5.31,0,0,0,4.9,8.1,5.31,5.31,0,0,0,1,6.5,5.31,5.31,0,0,0,4.9,4.9,5.31,5.31,0,0,0,6.5,1,5.31,5.31,0,0,0,8.1,4.9,5.31,5.31,0,0,0,12,6.5,5.46,5.46,0,0,0,6.5,12Z\"/>\n",
              "  </svg>\n",
              "    </button>\n",
              "    <script>\n",
              "      (() => {\n",
              "      const buttonEl =\n",
              "        document.querySelector('#id_df63157f-a6ed-4c9d-aac0-47fc7fd80c41 button.colab-df-generate');\n",
              "      buttonEl.style.display =\n",
              "        google.colab.kernel.accessAllowed ? 'block' : 'none';\n",
              "\n",
              "      buttonEl.onclick = () => {\n",
              "        google.colab.notebook.generateWithVariable('iris');\n",
              "      }\n",
              "      })();\n",
              "    </script>\n",
              "  </div>\n",
              "\n",
              "    </div>\n",
              "  </div>\n"
            ],
            "application/vnd.google.colaboratory.intrinsic+json": {
              "type": "dataframe",
              "variable_name": "iris",
              "summary": "{\n  \"name\": \"iris\",\n  \"rows\": 150,\n  \"fields\": [\n    {\n      \"column\": \"sepal_length\",\n      \"properties\": {\n        \"dtype\": \"number\",\n        \"std\": 0.828066127977863,\n        \"min\": 4.3,\n        \"max\": 7.9,\n        \"num_unique_values\": 35,\n        \"samples\": [\n          6.2,\n          4.5,\n          5.6\n        ],\n        \"semantic_type\": \"\",\n        \"description\": \"\"\n      }\n    },\n    {\n      \"column\": \"sepal_width\",\n      \"properties\": {\n        \"dtype\": \"number\",\n        \"std\": 0.4358662849366982,\n        \"min\": 2.0,\n        \"max\": 4.4,\n        \"num_unique_values\": 23,\n        \"samples\": [\n          2.3,\n          4.0,\n          3.5\n        ],\n        \"semantic_type\": \"\",\n        \"description\": \"\"\n      }\n    },\n    {\n      \"column\": \"petal_length\",\n      \"properties\": {\n        \"dtype\": \"number\",\n        \"std\": 1.7652982332594662,\n        \"min\": 1.0,\n        \"max\": 6.9,\n        \"num_unique_values\": 43,\n        \"samples\": [\n          6.7,\n          3.8,\n          3.7\n        ],\n        \"semantic_type\": \"\",\n        \"description\": \"\"\n      }\n    },\n    {\n      \"column\": \"petal_width\",\n      \"properties\": {\n        \"dtype\": \"number\",\n        \"std\": 0.7622376689603465,\n        \"min\": 0.1,\n        \"max\": 2.5,\n        \"num_unique_values\": 22,\n        \"samples\": [\n          0.2,\n          1.2,\n          1.3\n        ],\n        \"semantic_type\": \"\",\n        \"description\": \"\"\n      }\n    },\n    {\n      \"column\": \"species\",\n      \"properties\": {\n        \"dtype\": \"category\",\n        \"num_unique_values\": 3,\n        \"samples\": [\n          \"setosa\",\n          \"versicolor\",\n          \"virginica\"\n        ],\n        \"semantic_type\": \"\",\n        \"description\": \"\"\n      }\n    }\n  ]\n}"
            }
          },
          "metadata": {},
          "execution_count": 56
        }
      ]
    },
    {
      "cell_type": "code",
      "source": [
        "_=sns.boxplot(data = iris)"
      ],
      "metadata": {
        "colab": {
          "base_uri": "https://localhost:8080/",
          "height": 435
        },
        "id": "PFUQWxmtfP2O",
        "outputId": "4ae9363b-f079-41cf-93cc-8a525d24451e"
      },
      "execution_count": 57,
      "outputs": [
        {
          "output_type": "display_data",
          "data": {
            "text/plain": [
              "<Figure size 640x480 with 1 Axes>"
            ],
            "image/png": "[encoded data removed]"
          },
          "metadata": {}
        }
      ]
    },
    {
      "cell_type": "code",
      "source": [
        "tips = sns.load_dataset('tips')\n",
        "tips"
      ],
      "metadata": {
        "colab": {
          "base_uri": "https://localhost:8080/",
          "height": 423
        },
        "collapsed": true,
        "id": "6hvNjIxLfzGx",
        "outputId": "77da98ac-49b9-486f-88ec-26c2b8bf77d8"
      },
      "execution_count": 58,
      "outputs": [
        {
          "output_type": "execute_result",
          "data": {
            "text/plain": [
              "     total_bill   tip     sex smoker   day    time  size\n",
              "0         16.99  1.01  Female     No   Sun  Dinner     2\n",
              "1         10.34  1.66    Male     No   Sun  Dinner     3\n",
              "2         21.01  3.50    Male     No   Sun  Dinner     3\n",
              "3         23.68  3.31    Male     No   Sun  Dinner     2\n",
              "4         24.59  3.61  Female     No   Sun  Dinner     4\n",
              "..          ...   ...     ...    ...   ...     ...   ...\n",
              "239       29.03  5.92    Male     No   Sat  Dinner     3\n",
              "240       27.18  2.00  Female    Yes   Sat  Dinner     2\n",
              "241       22.67  2.00    Male    Yes   Sat  Dinner     2\n",
              "242       17.82  1.75    Male     No   Sat  Dinner     2\n",
              "243       18.78  3.00  Female     No  Thur  Dinner     2\n",
              "\n",
              "[244 rows x 7 columns]"
            ],
            "text/html": [
              "\n",
              "  <div id=\"df-60f49cc6-4999-463c-b173-085444555ef4\" class=\"colab-df-container\">\n",
              "    <div>\n",
              "<style scoped>\n",
              "    .dataframe tbody tr th:only-of-type {\n",
              "        vertical-align: middle;\n",
              "    }\n",
              "\n",
              "    .dataframe tbody tr th {\n",
              "        vertical-align: top;\n",
              "    }\n",
              "\n",
              "    .dataframe thead th {\n",
              "        text-align: right;\n",
              "    }\n",
              "</style>\n",
              "<table border=\"1\" class=\"dataframe\">\n",
              "  <thead>\n",
              "    <tr style=\"text-align: right;\">\n",
              "      <th></th>\n",
              "      <th>total_bill</th>\n",
              "      <th>tip</th>\n",
              "      <th>sex</th>\n",
              "      <th>smoker</th>\n",
              "      <th>day</th>\n",
              "      <th>time</th>\n",
              "      <th>size</th>\n",
              "    </tr>\n",
              "  </thead>\n",
              "  <tbody>\n",
              "    <tr>\n",
              "      <th>0</th>\n",
              "      <td>16.99</td>\n",
              "      <td>1.01</td>\n",
              "      <td>Female</td>\n",
              "      <td>No</td>\n",
              "      <td>Sun</td>\n",
              "      <td>Dinner</td>\n",
              "      <td>2</td>\n",
              "    </tr>\n",
              "    <tr>\n",
              "      <th>1</th>\n",
              "      <td>10.34</td>\n",
              "      <td>1.66</td>\n",
              "      <td>Male</td>\n",
              "      <td>No</td>\n",
              "      <td>Sun</td>\n",
              "      <td>Dinner</td>\n",
              "      <td>3</td>\n",
              "    </tr>\n",
              "    <tr>\n",
              "      <th>2</th>\n",
              "      <td>21.01</td>\n",
              "      <td>3.50</td>\n",
              "      <td>Male</td>\n",
              "      <td>No</td>\n",
              "      <td>Sun</td>\n",
              "      <td>Dinner</td>\n",
              "      <td>3</td>\n",
              "    </tr>\n",
              "    <tr>\n",
              "      <th>3</th>\n",
              "      <td>23.68</td>\n",
              "      <td>3.31</td>\n",
              "      <td>Male</td>\n",
              "      <td>No</td>\n",
              "      <td>Sun</td>\n",
              "      <td>Dinner</td>\n",
              "      <td>2</td>\n",
              "    </tr>\n",
              "    <tr>\n",
              "      <th>4</th>\n",
              "      <td>24.59</td>\n",
              "      <td>3.61</td>\n",
              "      <td>Female</td>\n",
              "      <td>No</td>\n",
              "      <td>Sun</td>\n",
              "      <td>Dinner</td>\n",
              "      <td>4</td>\n",
              "    </tr>\n",
              "    <tr>\n",
              "      <th>...</th>\n",
              "      <td>...</td>\n",
              "      <td>...</td>\n",
              "      <td>...</td>\n",
              "      <td>...</td>\n",
              "      <td>...</td>\n",
              "      <td>...</td>\n",
              "      <td>...</td>\n",
              "    </tr>\n",
              "    <tr>\n",
              "      <th>239</th>\n",
              "      <td>29.03</td>\n",
              "      <td>5.92</td>\n",
              "      <td>Male</td>\n",
              "      <td>No</td>\n",
              "      <td>Sat</td>\n",
              "      <td>Dinner</td>\n",
              "      <td>3</td>\n",
              "    </tr>\n",
              "    <tr>\n",
              "      <th>240</th>\n",
              "      <td>27.18</td>\n",
              "      <td>2.00</td>\n",
              "      <td>Female</td>\n",
              "      <td>Yes</td>\n",
              "      <td>Sat</td>\n",
              "      <td>Dinner</td>\n",
              "      <td>2</td>\n",
              "    </tr>\n",
              "    <tr>\n",
              "      <th>241</th>\n",
              "      <td>22.67</td>\n",
              "      <td>2.00</td>\n",
              "      <td>Male</td>\n",
              "      <td>Yes</td>\n",
              "      <td>Sat</td>\n",
              "      <td>Dinner</td>\n",
              "      <td>2</td>\n",
              "    </tr>\n",
              "    <tr>\n",
              "      <th>242</th>\n",
              "      <td>17.82</td>\n",
              "      <td>1.75</td>\n",
              "      <td>Male</td>\n",
              "      <td>No</td>\n",
              "      <td>Sat</td>\n",
              "      <td>Dinner</td>\n",
              "      <td>2</td>\n",
              "    </tr>\n",
              "    <tr>\n",
              "      <th>243</th>\n",
              "      <td>18.78</td>\n",
              "      <td>3.00</td>\n",
              "      <td>Female</td>\n",
              "      <td>No</td>\n",
              "      <td>Thur</td>\n",
              "      <td>Dinner</td>\n",
              "      <td>2</td>\n",
              "    </tr>\n",
              "  </tbody>\n",
              "</table>\n",
              "<p>244 rows × 7 columns</p>\n",
              "</div>\n",
              "    <div class=\"colab-df-buttons\">\n",
              "\n",
              "  <div class=\"colab-df-container\">\n",
              "    <button class=\"colab-df-convert\" onclick=\"convertToInteractive('df-60f49cc6-4999-463c-b173-085444555ef4')\"\n",
              "            title=\"Convert this dataframe to an interactive table.\"\n",
              "            style=\"display:none;\">\n",
              "\n",
              "  <svg xmlns=\"http://www.w3.org/2000/svg\" height=\"24px\" viewBox=\"0 -960 960 960\">\n",
              "    <path d=\"M120-120v-720h720v720H120Zm60-500h600v-160H180v160Zm220 220h160v-160H400v160Zm0 220h160v-160H400v160ZM180-400h160v-160H180v160Zm440 0h160v-160H620v160ZM180-180h160v-160H180v160Zm440 0h160v-160H620v160Z\"/>\n",
              "  </svg>\n",
              "    </button>\n",
              "\n",
              "  <style>\n",
              "    .colab-df-container {\n",
              "      display:flex;\n",
              "      gap: 12px;\n",
              "    }\n",
              "\n",
              "    .colab-df-convert {\n",
              "      background-color: #E8F0FE;\n",
              "      border: none;\n",
              "      border-radius: 50%;\n",
              "      cursor: pointer;\n",
              "      display: none;\n",
              "      fill: #1967D2;\n",
              "      height: 32px;\n",
              "      padding: 0 0 0 0;\n",
              "      width: 32px;\n",
              "    }\n",
              "\n",
              "    .colab-df-convert:hover {\n",
              "      background-color: #E2EBFA;\n",
              "      box-shadow: 0px 1px 2px rgba(60, 64, 67, 0.3), 0px 1px 3px 1px rgba(60, 64, 67, 0.15);\n",
              "      fill: #174EA6;\n",
              "    }\n",
              "\n",
              "    .colab-df-buttons div {\n",
              "      margin-bottom: 4px;\n",
              "    }\n",
              "\n",
              "    [theme=dark] .colab-df-convert {\n",
              "      background-color: #3B4455;\n",
              "      fill: #D2E3FC;\n",
              "    }\n",
              "\n",
              "    [theme=dark] .colab-df-convert:hover {\n",
              "      background-color: #434B5C;\n",
              "      box-shadow: 0px 1px 3px 1px rgba(0, 0, 0, 0.15);\n",
              "      filter: drop-shadow(0px 1px 2px rgba(0, 0, 0, 0.3));\n",
              "      fill: #FFFFFF;\n",
              "    }\n",
              "  </style>\n",
              "\n",
              "    <script>\n",
              "      const buttonEl =\n",
              "        document.querySelector('#df-60f49cc6-4999-463c-b173-085444555ef4 button.colab-df-convert');\n",
              "      buttonEl.style.display =\n",
              "        google.colab.kernel.accessAllowed ? 'block' : 'none';\n",
              "\n",
              "      async function convertToInteractive(key) {\n",
              "        const element = document.querySelector('#df-60f49cc6-4999-463c-b173-085444555ef4');\n",
              "        const dataTable =\n",
              "          await google.colab.kernel.invokeFunction('convertToInteractive',\n",
              "                                                    [key], {});\n",
              "        if (!dataTable) return;\n",
              "\n",
              "        const docLinkHtml = 'Like what you see? Visit the ' +\n",
              "          '<a target=\"_blank\" href=https://colab.research.google.com/notebooks/data_table.ipynb>data table notebook</a>'\n",
              "          + ' to learn more about interactive tables.';\n",
              "        element.innerHTML = '';\n",
              "        dataTable['output_type'] = 'display_data';\n",
              "        await google.colab.output.renderOutput(dataTable, element);\n",
              "        const docLink = document.createElement('div');\n",
              "        docLink.innerHTML = docLinkHtml;\n",
              "        element.appendChild(docLink);\n",
              "      }\n",
              "    </script>\n",
              "  </div>\n",
              "\n",
              "\n",
              "<div id=\"df-42349c74-1c92-486c-abf4-18d2522be222\">\n",
              "  <button class=\"colab-df-quickchart\" onclick=\"quickchart('df-42349c74-1c92-486c-abf4-18d2522be222')\"\n",
              "            title=\"Suggest charts\"\n",
              "            style=\"display:none;\">\n",
              "\n",
              "<svg xmlns=\"http://www.w3.org/2000/svg\" height=\"24px\"viewBox=\"0 0 24 24\"\n",
              "     width=\"24px\">\n",
              "    <g>\n",
              "        <path d=\"M19 3H5c-1.1 0-2 .9-2 2v14c0 1.1.9 2 2 2h14c1.1 0 2-.9 2-2V5c0-1.1-.9-2-2-2zM9 17H7v-7h2v7zm4 0h-2V7h2v10zm4 0h-2v-4h2v4z\"/>\n",
              "    </g>\n",
              "</svg>\n",
              "  </button>\n",
              "\n",
              "<style>\n",
              "  .colab-df-quickchart {\n",
              "      --bg-color: #E8F0FE;\n",
              "      --fill-color: #1967D2;\n",
              "      --hover-bg-color: #E2EBFA;\n",
              "      --hover-fill-color: #174EA6;\n",
              "      --disabled-fill-color: #AAA;\n",
              "      --disabled-bg-color: #DDD;\n",
              "  }\n",
              "\n",
              "  [theme=dark] .colab-df-quickchart {\n",
              "      --bg-color: #3B4455;\n",
              "      --fill-color: #D2E3FC;\n",
              "      --hover-bg-color: #434B5C;\n",
              "      --hover-fill-color: #FFFFFF;\n",
              "      --disabled-bg-color: #3B4455;\n",
              "      --disabled-fill-color: #666;\n",
              "  }\n",
              "\n",
              "  .colab-df-quickchart {\n",
              "    background-color: var(--bg-color);\n",
              "    border: none;\n",
              "    border-radius: 50%;\n",
              "    cursor: pointer;\n",
              "    display: none;\n",
              "    fill: var(--fill-color);\n",
              "    height: 32px;\n",
              "    padding: 0;\n",
              "    width: 32px;\n",
              "  }\n",
              "\n",
              "  .colab-df-quickchart:hover {\n",
              "    background-color: var(--hover-bg-color);\n",
              "    box-shadow: 0 1px 2px rgba(60, 64, 67, 0.3), 0 1px 3px 1px rgba(60, 64, 67, 0.15);\n",
              "    fill: var(--button-hover-fill-color);\n",
              "  }\n",
              "\n",
              "  .colab-df-quickchart-complete:disabled,\n",
              "  .colab-df-quickchart-complete:disabled:hover {\n",
              "    background-color: var(--disabled-bg-color);\n",
              "    fill: var(--disabled-fill-color);\n",
              "    box-shadow: none;\n",
              "  }\n",
              "\n",
              "  .colab-df-spinner {\n",
              "    border: 2px solid var(--fill-color);\n",
              "    border-color: transparent;\n",
              "    border-bottom-color: var(--fill-color);\n",
              "    animation:\n",
              "      spin 1s steps(1) infinite;\n",
              "  }\n",
              "\n",
              "  @keyframes spin {\n",
              "    0% {\n",
              "      border-color: transparent;\n",
              "      border-bottom-color: var(--fill-color);\n",
              "      border-left-color: var(--fill-color);\n",
              "    }\n",
              "    20% {\n",
              "      border-color: transparent;\n",
              "      border-left-color: var(--fill-color);\n",
              "      border-top-color: var(--fill-color);\n",
              "    }\n",
              "    30% {\n",
              "      border-color: transparent;\n",
              "      border-left-color: var(--fill-color);\n",
              "      border-top-color: var(--fill-color);\n",
              "      border-right-color: var(--fill-color);\n",
              "    }\n",
              "    40% {\n",
              "      border-color: transparent;\n",
              "      border-right-color: var(--fill-color);\n",
              "      border-top-color: var(--fill-color);\n",
              "    }\n",
              "    60% {\n",
              "      border-color: transparent;\n",
              "      border-right-color: var(--fill-color);\n",
              "    }\n",
              "    80% {\n",
              "      border-color: transparent;\n",
              "      border-right-color: var(--fill-color);\n",
              "      border-bottom-color: var(--fill-color);\n",
              "    }\n",
              "    90% {\n",
              "      border-color: transparent;\n",
              "      border-bottom-color: var(--fill-color);\n",
              "    }\n",
              "  }\n",
              "</style>\n",
              "\n",
              "  <script>\n",
              "    async function quickchart(key) {\n",
              "      const quickchartButtonEl =\n",
              "        document.querySelector('#' + key + ' button');\n",
              "      quickchartButtonEl.disabled = true;  // To prevent multiple clicks.\n",
              "      quickchartButtonEl.classList.add('colab-df-spinner');\n",
              "      try {\n",
              "        const charts = await google.colab.kernel.invokeFunction(\n",
              "            'suggestCharts', [key], {});\n",
              "      } catch (error) {\n",
              "        console.error('Error during call to suggestCharts:', error);\n",
              "      }\n",
              "      quickchartButtonEl.classList.remove('colab-df-spinner');\n",
              "      quickchartButtonEl.classList.add('colab-df-quickchart-complete');\n",
              "    }\n",
              "    (() => {\n",
              "      let quickchartButtonEl =\n",
              "        document.querySelector('#df-42349c74-1c92-486c-abf4-18d2522be222 button');\n",
              "      quickchartButtonEl.style.display =\n",
              "        google.colab.kernel.accessAllowed ? 'block' : 'none';\n",
              "    })();\n",
              "  </script>\n",
              "</div>\n",
              "\n",
              "  <div id=\"id_7786a9c6-80d8-457f-ad4c-a441ce556ae3\">\n",
              "    <style>\n",
              "      .colab-df-generate {\n",
              "        background-color: #E8F0FE;\n",
              "        border: none;\n",
              "        border-radius: 50%;\n",
              "        cursor: pointer;\n",
              "        display: none;\n",
              "        fill: #1967D2;\n",
              "        height: 32px;\n",
              "        padding: 0 0 0 0;\n",
              "        width: 32px;\n",
              "      }\n",
              "\n",
              "      .colab-df-generate:hover {\n",
              "        background-color: #E2EBFA;\n",
              "        box-shadow: 0px 1px 2px rgba(60, 64, 67, 0.3), 0px 1px 3px 1px rgba(60, 64, 67, 0.15);\n",
              "        fill: #174EA6;\n",
              "      }\n",
              "\n",
              "      [theme=dark] .colab-df-generate {\n",
              "        background-color: #3B4455;\n",
              "        fill: #D2E3FC;\n",
              "      }\n",
              "\n",
              "      [theme=dark] .colab-df-generate:hover {\n",
              "        background-color: #434B5C;\n",
              "        box-shadow: 0px 1px 3px 1px rgba(0, 0, 0, 0.15);\n",
              "        filter: drop-shadow(0px 1px 2px rgba(0, 0, 0, 0.3));\n",
              "        fill: #FFFFFF;\n",
              "      }\n",
              "    </style>\n",
              "    <button class=\"colab-df-generate\" onclick=\"generateWithVariable('tips')\"\n",
              "            title=\"Generate code using this dataframe.\"\n",
              "            style=\"display:none;\">\n",
              "\n",
              "  <svg xmlns=\"http://www.w3.org/2000/svg\" height=\"24px\"viewBox=\"0 0 24 24\"\n",
              "       width=\"24px\">\n",
              "    <path d=\"M7,19H8.4L18.45,9,17,7.55,7,17.6ZM5,21V16.75L18.45,3.32a2,2,0,0,1,2.83,0l1.4,1.43a1.91,1.91,0,0,1,.58,1.4,1.91,1.91,0,0,1-.58,1.4L9.25,21ZM18.45,9,17,7.55Zm-12,3A5.31,5.31,0,0,0,4.9,8.1,5.31,5.31,0,0,0,1,6.5,5.31,5.31,0,0,0,4.9,4.9,5.31,5.31,0,0,0,6.5,1,5.31,5.31,0,0,0,8.1,4.9,5.31,5.31,0,0,0,12,6.5,5.46,5.46,0,0,0,6.5,12Z\"/>\n",
              "  </svg>\n",
              "    </button>\n",
              "    <script>\n",
              "      (() => {\n",
              "      const buttonEl =\n",
              "        document.querySelector('#id_7786a9c6-80d8-457f-ad4c-a441ce556ae3 button.colab-df-generate');\n",
              "      buttonEl.style.display =\n",
              "        google.colab.kernel.accessAllowed ? 'block' : 'none';\n",
              "\n",
              "      buttonEl.onclick = () => {\n",
              "        google.colab.notebook.generateWithVariable('tips');\n",
              "      }\n",
              "      })();\n",
              "    </script>\n",
              "  </div>\n",
              "\n",
              "    </div>\n",
              "  </div>\n"
            ],
            "application/vnd.google.colaboratory.intrinsic+json": {
              "type": "dataframe",
              "variable_name": "tips",
              "summary": "{\n  \"name\": \"tips\",\n  \"rows\": 244,\n  \"fields\": [\n    {\n      \"column\": \"total_bill\",\n      \"properties\": {\n        \"dtype\": \"number\",\n        \"std\": 8.902411954856856,\n        \"min\": 3.07,\n        \"max\": 50.81,\n        \"num_unique_values\": 229,\n        \"samples\": [\n          22.12,\n          20.23,\n          14.78\n        ],\n        \"semantic_type\": \"\",\n        \"description\": \"\"\n      }\n    },\n    {\n      \"column\": \"tip\",\n      \"properties\": {\n        \"dtype\": \"number\",\n        \"std\": 1.3836381890011822,\n        \"min\": 1.0,\n        \"max\": 10.0,\n        \"num_unique_values\": 123,\n        \"samples\": [\n          3.35,\n          1.5,\n          6.73\n        ],\n        \"semantic_type\": \"\",\n        \"description\": \"\"\n      }\n    },\n    {\n      \"column\": \"sex\",\n      \"properties\": {\n        \"dtype\": \"category\",\n        \"num_unique_values\": 2,\n        \"samples\": [\n          \"Male\",\n          \"Female\"\n        ],\n        \"semantic_type\": \"\",\n        \"description\": \"\"\n      }\n    },\n    {\n      \"column\": \"smoker\",\n      \"properties\": {\n        \"dtype\": \"category\",\n        \"num_unique_values\": 2,\n        \"samples\": [\n          \"Yes\",\n          \"No\"\n        ],\n        \"semantic_type\": \"\",\n        \"description\": \"\"\n      }\n    },\n    {\n      \"column\": \"day\",\n      \"properties\": {\n        \"dtype\": \"category\",\n        \"num_unique_values\": 4,\n        \"samples\": [\n          \"Sat\",\n          \"Fri\"\n        ],\n        \"semantic_type\": \"\",\n        \"description\": \"\"\n      }\n    },\n    {\n      \"column\": \"time\",\n      \"properties\": {\n        \"dtype\": \"category\",\n        \"num_unique_values\": 2,\n        \"samples\": [\n          \"Lunch\",\n          \"Dinner\"\n        ],\n        \"semantic_type\": \"\",\n        \"description\": \"\"\n      }\n    },\n    {\n      \"column\": \"size\",\n      \"properties\": {\n        \"dtype\": \"number\",\n        \"std\": 0,\n        \"min\": 1,\n        \"max\": 6,\n        \"num_unique_values\": 6,\n        \"samples\": [\n          2,\n          3\n        ],\n        \"semantic_type\": \"\",\n        \"description\": \"\"\n      }\n    }\n  ]\n}"
            }
          },
          "metadata": {},
          "execution_count": 58
        }
      ]
    },
    {
      "cell_type": "code",
      "source": [
        "_ = sns.boxplot(x ='day',y = 'total_bill', hue = 'smoker', data = tips)"
      ],
      "metadata": {
        "colab": {
          "base_uri": "https://localhost:8080/",
          "height": 458
        },
        "id": "3x0NGeENf_a4",
        "outputId": "ed9e4a99-5dca-475a-892a-d1354d252273"
      },
      "execution_count": 59,
      "outputs": [
        {
          "output_type": "display_data",
          "data": {
            "text/plain": [
              "<Figure size 640x480 with 1 Axes>"
            ],
            "image/png": "[encoded data removed]"
          },
          "metadata": {}
        }
      ]
    },
    {
      "cell_type": "markdown",
      "source": [
        "##Variance\n"
      ],
      "metadata": {
        "id": "QmBZgXHkrIC-"
      }
    },
    {
      "cell_type": "code",
      "source": [
        "xbar = np.mean(x)\n",
        "xbar"
      ],
      "metadata": {
        "colab": {
          "base_uri": "https://localhost:8080/"
        },
        "id": "_RCZv5-2rRJZ",
        "outputId": "cad18407-21a0-4565-bffc-3ab3e8154c15"
      },
      "execution_count": 60,
      "outputs": [
        {
          "output_type": "execute_result",
          "data": {
            "text/plain": [
              "0.7881257943021662"
            ]
          },
          "metadata": {},
          "execution_count": 60
        }
      ]
    },
    {
      "cell_type": "code",
      "source": [
        "squared_difference = [(x_i - xbar)**2 for x_i in x]\n"
      ],
      "metadata": {
        "id": "PNGu4xf2raqf"
      },
      "execution_count": 61,
      "outputs": []
    },
    {
      "cell_type": "code",
      "source": [
        "squared_difference[0:10]"
      ],
      "metadata": {
        "colab": {
          "base_uri": "https://localhost:8080/"
        },
        "id": "tBec0uoOrxHG",
        "outputId": "6b839086-892a-44dc-b227-bd53d3b2968d"
      },
      "execution_count": 62,
      "outputs": [
        {
          "output_type": "execute_result",
          "data": {
            "text/plain": [
              "[0.8419249678565911,\n",
              " 0.8297926786532728,\n",
              " 0.8087093023139483,\n",
              " 0.7841878528865776,\n",
              " 0.7733102759481242,\n",
              " 0.7307038980061743,\n",
              " 0.722084981851007,\n",
              " 0.7117349139518395,\n",
              " 0.7106262262471523,\n",
              " 0.7094567620560399]"
            ]
          },
          "metadata": {},
          "execution_count": 62
        }
      ]
    },
    {
      "cell_type": "code",
      "source": [
        "sigma_squared =  sum(squared_difference)/len(x)  #Variance\n",
        "sigma_squared"
      ],
      "metadata": {
        "colab": {
          "base_uri": "https://localhost:8080/"
        },
        "id": "3JPM26fPr6Zz",
        "outputId": "3acd2829-8f8d-45cb-d68c-e1d9051373da"
      },
      "execution_count": 63,
      "outputs": [
        {
          "output_type": "execute_result",
          "data": {
            "text/plain": [
              "0.36638737712652036"
            ]
          },
          "metadata": {},
          "execution_count": 63
        }
      ]
    },
    {
      "cell_type": "code",
      "source": [
        "np.var(x)"
      ],
      "metadata": {
        "colab": {
          "base_uri": "https://localhost:8080/"
        },
        "id": "1uMDdxz7r_La",
        "outputId": "566d4bc4-d262-4abc-9881-f1bc2e67a9e1"
      },
      "execution_count": 64,
      "outputs": [
        {
          "output_type": "execute_result",
          "data": {
            "text/plain": [
              "0.36638737712652053"
            ]
          },
          "metadata": {},
          "execution_count": 64
        }
      ]
    },
    {
      "cell_type": "markdown",
      "source": [
        "###Standard Deviation"
      ],
      "metadata": {
        "id": "GVF4WjVLs6lL"
      }
    },
    {
      "cell_type": "code",
      "source": [
        "sigma = (sigma_squared)**(1/2)\n",
        "sigma    #Standard deviation"
      ],
      "metadata": {
        "colab": {
          "base_uri": "https://localhost:8080/"
        },
        "id": "UzBhOl7_tAp_",
        "outputId": "3d237a74-2812-4590-a9ee-a90aa93159e5"
      },
      "execution_count": 65,
      "outputs": [
        {
          "output_type": "execute_result",
          "data": {
            "text/plain": [
              "0.605299411140074"
            ]
          },
          "metadata": {},
          "execution_count": 65
        }
      ]
    },
    {
      "cell_type": "code",
      "source": [
        "np.std(x)"
      ],
      "metadata": {
        "colab": {
          "base_uri": "https://localhost:8080/"
        },
        "id": "qra0Nr0OtOGi",
        "outputId": "5fdc96c0-e461-418a-a67c-654ac3d9b7f0"
      },
      "execution_count": 66,
      "outputs": [
        {
          "output_type": "execute_result",
          "data": {
            "text/plain": [
              "0.6052994111400741"
            ]
          },
          "metadata": {},
          "execution_count": 66
        }
      ]
    },
    {
      "cell_type": "code",
      "source": [
        "fig,ax = plt.subplots()\n",
        "plt.axvline (x =np.mean(x), color = 'orange')\n",
        "plt.axvline (x =np.var(x), color = 'Green')\n",
        "plt.axvline (x =np.std(x), color = 'red')\n",
        "\n",
        "_ = ax.hist(x, color = 'lightgray')\n",
        "\n"
      ],
      "metadata": {
        "colab": {
          "base_uri": "https://localhost:8080/",
          "height": 434
        },
        "id": "m2kpLDJitX0N",
        "outputId": "d65e95ba-7df1-467b-c72b-c2e4ae7caee9"
      },
      "execution_count": 67,
      "outputs": [
        {
          "output_type": "display_data",
          "data": {
            "text/plain": [
              "<Figure size 640x480 with 1 Axes>"
            ],
            "image/png": "[encoded data removed]"
          },
          "metadata": {}
        }
      ]
    },
    {
      "cell_type": "markdown",
      "source": [
        "##Standard Error"
      ],
      "metadata": {
        "id": "k_JwWCIOud8P"
      }
    },
    {
      "cell_type": "code",
      "source": [
        "sigma/(len(x)**(1/2))"
      ],
      "metadata": {
        "colab": {
          "base_uri": "https://localhost:8080/"
        },
        "id": "rJaIdqI6ufwg",
        "outputId": "a26a9045-5252-40be-defe-81bfde3b466d"
      },
      "execution_count": 68,
      "outputs": [
        {
          "output_type": "execute_result",
          "data": {
            "text/plain": [
              "0.019141248055613312"
            ]
          },
          "metadata": {},
          "execution_count": 68
        }
      ]
    },
    {
      "cell_type": "code",
      "source": [
        "st.sem(x)"
      ],
      "metadata": {
        "colab": {
          "base_uri": "https://localhost:8080/"
        },
        "id": "4-vwty5vuuI1",
        "outputId": "3837d40d-83a4-4744-cbdf-1376494b56cf"
      },
      "execution_count": 69,
      "outputs": [
        {
          "output_type": "execute_result",
          "data": {
            "text/plain": [
              "0.01915082586359602"
            ]
          },
          "metadata": {},
          "execution_count": 69
        }
      ]
    },
    {
      "cell_type": "code",
      "source": [
        "st.sem(x, ddof = 0)"
      ],
      "metadata": {
        "colab": {
          "base_uri": "https://localhost:8080/"
        },
        "id": "zdlQNPg8vFAo",
        "outputId": "232c0442-d1bb-4e73-94a8-9625b05b0d13"
      },
      "execution_count": 70,
      "outputs": [
        {
          "output_type": "execute_result",
          "data": {
            "text/plain": [
              "0.019141248055613316"
            ]
          },
          "metadata": {},
          "execution_count": 70
        }
      ]
    },
    {
      "cell_type": "markdown",
      "source": [
        "#Measures of Relatedness"
      ],
      "metadata": {
        "id": "OHyukrrywBSP"
      }
    },
    {
      "cell_type": "markdown",
      "source": [
        "##Covariance"
      ],
      "metadata": {
        "id": "aGFhe3cewKzp"
      }
    },
    {
      "cell_type": "code",
      "source": [
        "iris"
      ],
      "metadata": {
        "colab": {
          "base_uri": "https://localhost:8080/",
          "height": 423
        },
        "id": "FxjpgkRawMtM",
        "outputId": "ed5d3a22-d1ac-48fa-b36f-11273f6ac68e"
      },
      "execution_count": 71,
      "outputs": [
        {
          "output_type": "execute_result",
          "data": {
            "text/plain": [
              "     sepal_length  sepal_width  petal_length  petal_width    species\n",
              "0             5.1          3.5           1.4          0.2     setosa\n",
              "1             4.9          3.0           1.4          0.2     setosa\n",
              "2             4.7          3.2           1.3          0.2     setosa\n",
              "3             4.6          3.1           1.5          0.2     setosa\n",
              "4             5.0          3.6           1.4          0.2     setosa\n",
              "..            ...          ...           ...          ...        ...\n",
              "145           6.7          3.0           5.2          2.3  virginica\n",
              "146           6.3          2.5           5.0          1.9  virginica\n",
              "147           6.5          3.0           5.2          2.0  virginica\n",
              "148           6.2          3.4           5.4          2.3  virginica\n",
              "149           5.9          3.0           5.1          1.8  virginica\n",
              "\n",
              "[150 rows x 5 columns]"
            ],
            "text/html": [
              "\n",
              "  <div id=\"df-d5d38aa0-65a8-488f-9bfe-a26e89ecee9f\" class=\"colab-df-container\">\n",
              "    <div>\n",
              "<style scoped>\n",
              "    .dataframe tbody tr th:only-of-type {\n",
              "        vertical-align: middle;\n",
              "    }\n",
              "\n",
              "    .dataframe tbody tr th {\n",
              "        vertical-align: top;\n",
              "    }\n",
              "\n",
              "    .dataframe thead th {\n",
              "        text-align: right;\n",
              "    }\n",
              "</style>\n",
              "<table border=\"1\" class=\"dataframe\">\n",
              "  <thead>\n",
              "    <tr style=\"text-align: right;\">\n",
              "      <th></th>\n",
              "      <th>sepal_length</th>\n",
              "      <th>sepal_width</th>\n",
              "      <th>petal_length</th>\n",
              "      <th>petal_width</th>\n",
              "      <th>species</th>\n",
              "    </tr>\n",
              "  </thead>\n",
              "  <tbody>\n",
              "    <tr>\n",
              "      <th>0</th>\n",
              "      <td>5.1</td>\n",
              "      <td>3.5</td>\n",
              "      <td>1.4</td>\n",
              "      <td>0.2</td>\n",
              "      <td>setosa</td>\n",
              "    </tr>\n",
              "    <tr>\n",
              "      <th>1</th>\n",
              "      <td>4.9</td>\n",
              "      <td>3.0</td>\n",
              "      <td>1.4</td>\n",
              "      <td>0.2</td>\n",
              "      <td>setosa</td>\n",
              "    </tr>\n",
              "    <tr>\n",
              "      <th>2</th>\n",
              "      <td>4.7</td>\n",
              "      <td>3.2</td>\n",
              "      <td>1.3</td>\n",
              "      <td>0.2</td>\n",
              "      <td>setosa</td>\n",
              "    </tr>\n",
              "    <tr>\n",
              "      <th>3</th>\n",
              "      <td>4.6</td>\n",
              "      <td>3.1</td>\n",
              "      <td>1.5</td>\n",
              "      <td>0.2</td>\n",
              "      <td>setosa</td>\n",
              "    </tr>\n",
              "    <tr>\n",
              "      <th>4</th>\n",
              "      <td>5.0</td>\n",
              "      <td>3.6</td>\n",
              "      <td>1.4</td>\n",
              "      <td>0.2</td>\n",
              "      <td>setosa</td>\n",
              "    </tr>\n",
              "    <tr>\n",
              "      <th>...</th>\n",
              "      <td>...</td>\n",
              "      <td>...</td>\n",
              "      <td>...</td>\n",
              "      <td>...</td>\n",
              "      <td>...</td>\n",
              "    </tr>\n",
              "    <tr>\n",
              "      <th>145</th>\n",
              "      <td>6.7</td>\n",
              "      <td>3.0</td>\n",
              "      <td>5.2</td>\n",
              "      <td>2.3</td>\n",
              "      <td>virginica</td>\n",
              "    </tr>\n",
              "    <tr>\n",
              "      <th>146</th>\n",
              "      <td>6.3</td>\n",
              "      <td>2.5</td>\n",
              "      <td>5.0</td>\n",
              "      <td>1.9</td>\n",
              "      <td>virginica</td>\n",
              "    </tr>\n",
              "    <tr>\n",
              "      <th>147</th>\n",
              "      <td>6.5</td>\n",
              "      <td>3.0</td>\n",
              "      <td>5.2</td>\n",
              "      <td>2.0</td>\n",
              "      <td>virginica</td>\n",
              "    </tr>\n",
              "    <tr>\n",
              "      <th>148</th>\n",
              "      <td>6.2</td>\n",
              "      <td>3.4</td>\n",
              "      <td>5.4</td>\n",
              "      <td>2.3</td>\n",
              "      <td>virginica</td>\n",
              "    </tr>\n",
              "    <tr>\n",
              "      <th>149</th>\n",
              "      <td>5.9</td>\n",
              "      <td>3.0</td>\n",
              "      <td>5.1</td>\n",
              "      <td>1.8</td>\n",
              "      <td>virginica</td>\n",
              "    </tr>\n",
              "  </tbody>\n",
              "</table>\n",
              "<p>150 rows × 5 columns</p>\n",
              "</div>\n",
              "    <div class=\"colab-df-buttons\">\n",
              "\n",
              "  <div class=\"colab-df-container\">\n",
              "    <button class=\"colab-df-convert\" onclick=\"convertToInteractive('df-d5d38aa0-65a8-488f-9bfe-a26e89ecee9f')\"\n",
              "            title=\"Convert this dataframe to an interactive table.\"\n",
              "            style=\"display:none;\">\n",
              "\n",
              "  <svg xmlns=\"http://www.w3.org/2000/svg\" height=\"24px\" viewBox=\"0 -960 960 960\">\n",
              "    <path d=\"M120-120v-720h720v720H120Zm60-500h600v-160H180v160Zm220 220h160v-160H400v160Zm0 220h160v-160H400v160ZM180-400h160v-160H180v160Zm440 0h160v-160H620v160ZM180-180h160v-160H180v160Zm440 0h160v-160H620v160Z\"/>\n",
              "  </svg>\n",
              "    </button>\n",
              "\n",
              "  <style>\n",
              "    .colab-df-container {\n",
              "      display:flex;\n",
              "      gap: 12px;\n",
              "    }\n",
              "\n",
              "    .colab-df-convert {\n",
              "      background-color: #E8F0FE;\n",
              "      border: none;\n",
              "      border-radius: 50%;\n",
              "      cursor: pointer;\n",
              "      display: none;\n",
              "      fill: #1967D2;\n",
              "      height: 32px;\n",
              "      padding: 0 0 0 0;\n",
              "      width: 32px;\n",
              "    }\n",
              "\n",
              "    .colab-df-convert:hover {\n",
              "      background-color: #E2EBFA;\n",
              "      box-shadow: 0px 1px 2px rgba(60, 64, 67, 0.3), 0px 1px 3px 1px rgba(60, 64, 67, 0.15);\n",
              "      fill: #174EA6;\n",
              "    }\n",
              "\n",
              "    .colab-df-buttons div {\n",
              "      margin-bottom: 4px;\n",
              "    }\n",
              "\n",
              "    [theme=dark] .colab-df-convert {\n",
              "      background-color: #3B4455;\n",
              "      fill: #D2E3FC;\n",
              "    }\n",
              "\n",
              "    [theme=dark] .colab-df-convert:hover {\n",
              "      background-color: #434B5C;\n",
              "      box-shadow: 0px 1px 3px 1px rgba(0, 0, 0, 0.15);\n",
              "      filter: drop-shadow(0px 1px 2px rgba(0, 0, 0, 0.3));\n",
              "      fill: #FFFFFF;\n",
              "    }\n",
              "  </style>\n",
              "\n",
              "    <script>\n",
              "      const buttonEl =\n",
              "        document.querySelector('#df-d5d38aa0-65a8-488f-9bfe-a26e89ecee9f button.colab-df-convert');\n",
              "      buttonEl.style.display =\n",
              "        google.colab.kernel.accessAllowed ? 'block' : 'none';\n",
              "\n",
              "      async function convertToInteractive(key) {\n",
              "        const element = document.querySelector('#df-d5d38aa0-65a8-488f-9bfe-a26e89ecee9f');\n",
              "        const dataTable =\n",
              "          await google.colab.kernel.invokeFunction('convertToInteractive',\n",
              "                                                    [key], {});\n",
              "        if (!dataTable) return;\n",
              "\n",
              "        const docLinkHtml = 'Like what you see? Visit the ' +\n",
              "          '<a target=\"_blank\" href=https://colab.research.google.com/notebooks/data_table.ipynb>data table notebook</a>'\n",
              "          + ' to learn more about interactive tables.';\n",
              "        element.innerHTML = '';\n",
              "        dataTable['output_type'] = 'display_data';\n",
              "        await google.colab.output.renderOutput(dataTable, element);\n",
              "        const docLink = document.createElement('div');\n",
              "        docLink.innerHTML = docLinkHtml;\n",
              "        element.appendChild(docLink);\n",
              "      }\n",
              "    </script>\n",
              "  </div>\n",
              "\n",
              "\n",
              "<div id=\"df-85f6c37a-9909-490d-b508-5ea9dac733a0\">\n",
              "  <button class=\"colab-df-quickchart\" onclick=\"quickchart('df-85f6c37a-9909-490d-b508-5ea9dac733a0')\"\n",
              "            title=\"Suggest charts\"\n",
              "            style=\"display:none;\">\n",
              "\n",
              "<svg xmlns=\"http://www.w3.org/2000/svg\" height=\"24px\"viewBox=\"0 0 24 24\"\n",
              "     width=\"24px\">\n",
              "    <g>\n",
              "        <path d=\"M19 3H5c-1.1 0-2 .9-2 2v14c0 1.1.9 2 2 2h14c1.1 0 2-.9 2-2V5c0-1.1-.9-2-2-2zM9 17H7v-7h2v7zm4 0h-2V7h2v10zm4 0h-2v-4h2v4z\"/>\n",
              "    </g>\n",
              "</svg>\n",
              "  </button>\n",
              "\n",
              "<style>\n",
              "  .colab-df-quickchart {\n",
              "      --bg-color: #E8F0FE;\n",
              "      --fill-color: #1967D2;\n",
              "      --hover-bg-color: #E2EBFA;\n",
              "      --hover-fill-color: #174EA6;\n",
              "      --disabled-fill-color: #AAA;\n",
              "      --disabled-bg-color: #DDD;\n",
              "  }\n",
              "\n",
              "  [theme=dark] .colab-df-quickchart {\n",
              "      --bg-color: #3B4455;\n",
              "      --fill-color: #D2E3FC;\n",
              "      --hover-bg-color: #434B5C;\n",
              "      --hover-fill-color: #FFFFFF;\n",
              "      --disabled-bg-color: #3B4455;\n",
              "      --disabled-fill-color: #666;\n",
              "  }\n",
              "\n",
              "  .colab-df-quickchart {\n",
              "    background-color: var(--bg-color);\n",
              "    border: none;\n",
              "    border-radius: 50%;\n",
              "    cursor: pointer;\n",
              "    display: none;\n",
              "    fill: var(--fill-color);\n",
              "    height: 32px;\n",
              "    padding: 0;\n",
              "    width: 32px;\n",
              "  }\n",
              "\n",
              "  .colab-df-quickchart:hover {\n",
              "    background-color: var(--hover-bg-color);\n",
              "    box-shadow: 0 1px 2px rgba(60, 64, 67, 0.3), 0 1px 3px 1px rgba(60, 64, 67, 0.15);\n",
              "    fill: var(--button-hover-fill-color);\n",
              "  }\n",
              "\n",
              "  .colab-df-quickchart-complete:disabled,\n",
              "  .colab-df-quickchart-complete:disabled:hover {\n",
              "    background-color: var(--disabled-bg-color);\n",
              "    fill: var(--disabled-fill-color);\n",
              "    box-shadow: none;\n",
              "  }\n",
              "\n",
              "  .colab-df-spinner {\n",
              "    border: 2px solid var(--fill-color);\n",
              "    border-color: transparent;\n",
              "    border-bottom-color: var(--fill-color);\n",
              "    animation:\n",
              "      spin 1s steps(1) infinite;\n",
              "  }\n",
              "\n",
              "  @keyframes spin {\n",
              "    0% {\n",
              "      border-color: transparent;\n",
              "      border-bottom-color: var(--fill-color);\n",
              "      border-left-color: var(--fill-color);\n",
              "    }\n",
              "    20% {\n",
              "      border-color: transparent;\n",
              "      border-left-color: var(--fill-color);\n",
              "      border-top-color: var(--fill-color);\n",
              "    }\n",
              "    30% {\n",
              "      border-color: transparent;\n",
              "      border-left-color: var(--fill-color);\n",
              "      border-top-color: var(--fill-color);\n",
              "      border-right-color: var(--fill-color);\n",
              "    }\n",
              "    40% {\n",
              "      border-color: transparent;\n",
              "      border-right-color: var(--fill-color);\n",
              "      border-top-color: var(--fill-color);\n",
              "    }\n",
              "    60% {\n",
              "      border-color: transparent;\n",
              "      border-right-color: var(--fill-color);\n",
              "    }\n",
              "    80% {\n",
              "      border-color: transparent;\n",
              "      border-right-color: var(--fill-color);\n",
              "      border-bottom-color: var(--fill-color);\n",
              "    }\n",
              "    90% {\n",
              "      border-color: transparent;\n",
              "      border-bottom-color: var(--fill-color);\n",
              "    }\n",
              "  }\n",
              "</style>\n",
              "\n",
              "  <script>\n",
              "    async function quickchart(key) {\n",
              "      const quickchartButtonEl =\n",
              "        document.querySelector('#' + key + ' button');\n",
              "      quickchartButtonEl.disabled = true;  // To prevent multiple clicks.\n",
              "      quickchartButtonEl.classList.add('colab-df-spinner');\n",
              "      try {\n",
              "        const charts = await google.colab.kernel.invokeFunction(\n",
              "            'suggestCharts', [key], {});\n",
              "      } catch (error) {\n",
              "        console.error('Error during call to suggestCharts:', error);\n",
              "      }\n",
              "      quickchartButtonEl.classList.remove('colab-df-spinner');\n",
              "      quickchartButtonEl.classList.add('colab-df-quickchart-complete');\n",
              "    }\n",
              "    (() => {\n",
              "      let quickchartButtonEl =\n",
              "        document.querySelector('#df-85f6c37a-9909-490d-b508-5ea9dac733a0 button');\n",
              "      quickchartButtonEl.style.display =\n",
              "        google.colab.kernel.accessAllowed ? 'block' : 'none';\n",
              "    })();\n",
              "  </script>\n",
              "</div>\n",
              "\n",
              "  <div id=\"id_7a0330ce-634f-4024-acfd-ca887c577a01\">\n",
              "    <style>\n",
              "      .colab-df-generate {\n",
              "        background-color: #E8F0FE;\n",
              "        border: none;\n",
              "        border-radius: 50%;\n",
              "        cursor: pointer;\n",
              "        display: none;\n",
              "        fill: #1967D2;\n",
              "        height: 32px;\n",
              "        padding: 0 0 0 0;\n",
              "        width: 32px;\n",
              "      }\n",
              "\n",
              "      .colab-df-generate:hover {\n",
              "        background-color: #E2EBFA;\n",
              "        box-shadow: 0px 1px 2px rgba(60, 64, 67, 0.3), 0px 1px 3px 1px rgba(60, 64, 67, 0.15);\n",
              "        fill: #174EA6;\n",
              "      }\n",
              "\n",
              "      [theme=dark] .colab-df-generate {\n",
              "        background-color: #3B4455;\n",
              "        fill: #D2E3FC;\n",
              "      }\n",
              "\n",
              "      [theme=dark] .colab-df-generate:hover {\n",
              "        background-color: #434B5C;\n",
              "        box-shadow: 0px 1px 3px 1px rgba(0, 0, 0, 0.15);\n",
              "        filter: drop-shadow(0px 1px 2px rgba(0, 0, 0, 0.3));\n",
              "        fill: #FFFFFF;\n",
              "      }\n",
              "    </style>\n",
              "    <button class=\"colab-df-generate\" onclick=\"generateWithVariable('iris')\"\n",
              "            title=\"Generate code using this dataframe.\"\n",
              "            style=\"display:none;\">\n",
              "\n",
              "  <svg xmlns=\"http://www.w3.org/2000/svg\" height=\"24px\"viewBox=\"0 0 24 24\"\n",
              "       width=\"24px\">\n",
              "    <path d=\"M7,19H8.4L18.45,9,17,7.55,7,17.6ZM5,21V16.75L18.45,3.32a2,2,0,0,1,2.83,0l1.4,1.43a1.91,1.91,0,0,1,.58,1.4,1.91,1.91,0,0,1-.58,1.4L9.25,21ZM18.45,9,17,7.55Zm-12,3A5.31,5.31,0,0,0,4.9,8.1,5.31,5.31,0,0,0,1,6.5,5.31,5.31,0,0,0,4.9,4.9,5.31,5.31,0,0,0,6.5,1,5.31,5.31,0,0,0,8.1,4.9,5.31,5.31,0,0,0,12,6.5,5.46,5.46,0,0,0,6.5,12Z\"/>\n",
              "  </svg>\n",
              "    </button>\n",
              "    <script>\n",
              "      (() => {\n",
              "      const buttonEl =\n",
              "        document.querySelector('#id_7a0330ce-634f-4024-acfd-ca887c577a01 button.colab-df-generate');\n",
              "      buttonEl.style.display =\n",
              "        google.colab.kernel.accessAllowed ? 'block' : 'none';\n",
              "\n",
              "      buttonEl.onclick = () => {\n",
              "        google.colab.notebook.generateWithVariable('iris');\n",
              "      }\n",
              "      })();\n",
              "    </script>\n",
              "  </div>\n",
              "\n",
              "    </div>\n",
              "  </div>\n"
            ],
            "application/vnd.google.colaboratory.intrinsic+json": {
              "type": "dataframe",
              "variable_name": "iris",
              "summary": "{\n  \"name\": \"iris\",\n  \"rows\": 150,\n  \"fields\": [\n    {\n      \"column\": \"sepal_length\",\n      \"properties\": {\n        \"dtype\": \"number\",\n        \"std\": 0.828066127977863,\n        \"min\": 4.3,\n        \"max\": 7.9,\n        \"num_unique_values\": 35,\n        \"samples\": [\n          6.2,\n          4.5,\n          5.6\n        ],\n        \"semantic_type\": \"\",\n        \"description\": \"\"\n      }\n    },\n    {\n      \"column\": \"sepal_width\",\n      \"properties\": {\n        \"dtype\": \"number\",\n        \"std\": 0.4358662849366982,\n        \"min\": 2.0,\n        \"max\": 4.4,\n        \"num_unique_values\": 23,\n        \"samples\": [\n          2.3,\n          4.0,\n          3.5\n        ],\n        \"semantic_type\": \"\",\n        \"description\": \"\"\n      }\n    },\n    {\n      \"column\": \"petal_length\",\n      \"properties\": {\n        \"dtype\": \"number\",\n        \"std\": 1.7652982332594662,\n        \"min\": 1.0,\n        \"max\": 6.9,\n        \"num_unique_values\": 43,\n        \"samples\": [\n          6.7,\n          3.8,\n          3.7\n        ],\n        \"semantic_type\": \"\",\n        \"description\": \"\"\n      }\n    },\n    {\n      \"column\": \"petal_width\",\n      \"properties\": {\n        \"dtype\": \"number\",\n        \"std\": 0.7622376689603465,\n        \"min\": 0.1,\n        \"max\": 2.5,\n        \"num_unique_values\": 22,\n        \"samples\": [\n          0.2,\n          1.2,\n          1.3\n        ],\n        \"semantic_type\": \"\",\n        \"description\": \"\"\n      }\n    },\n    {\n      \"column\": \"species\",\n      \"properties\": {\n        \"dtype\": \"category\",\n        \"num_unique_values\": 3,\n        \"samples\": [\n          \"setosa\",\n          \"versicolor\",\n          \"virginica\"\n        ],\n        \"semantic_type\": \"\",\n        \"description\": \"\"\n      }\n    }\n  ]\n}"
            }
          },
          "metadata": {},
          "execution_count": 71
        }
      ]
    },
    {
      "cell_type": "code",
      "source": [
        "x = iris.sepal_length\n",
        "y = iris.petal_length"
      ],
      "metadata": {
        "id": "7h2hGm2Swm8A"
      },
      "execution_count": 72,
      "outputs": []
    },
    {
      "cell_type": "code",
      "source": [
        "_ =sns.scatterplot(x=x,y=y)  # Inc in Sepal length results increase in petal length"
      ],
      "metadata": {
        "colab": {
          "base_uri": "https://localhost:8080/",
          "height": 458
        },
        "id": "IeYTaFdxwsi1",
        "outputId": "455091ba-5a78-46b4-e83e-7d89c94430f5"
      },
      "execution_count": 73,
      "outputs": [
        {
          "output_type": "display_data",
          "data": {
            "text/plain": [
              "<Figure size 640x480 with 1 Axes>"
            ],
            "image/png": "[encoded data removed]"
          },
          "metadata": {}
        }
      ]
    },
    {
      "cell_type": "code",
      "source": [
        "n = len(x)\n",
        "n"
      ],
      "metadata": {
        "colab": {
          "base_uri": "https://localhost:8080/"
        },
        "id": "_UV-gcFFw5nu",
        "outputId": "6751b630-cc4d-41da-e282-c261f839561f"
      },
      "execution_count": 74,
      "outputs": [
        {
          "output_type": "execute_result",
          "data": {
            "text/plain": [
              "150"
            ]
          },
          "metadata": {},
          "execution_count": 74
        }
      ]
    },
    {
      "cell_type": "code",
      "source": [
        "xbar = sum(x)/n\n",
        "xbar"
      ],
      "metadata": {
        "colab": {
          "base_uri": "https://localhost:8080/"
        },
        "id": "zd3uwYZrxENK",
        "outputId": "2faf1c32-42e1-4289-bd38-06df95a46fda"
      },
      "execution_count": 75,
      "outputs": [
        {
          "output_type": "execute_result",
          "data": {
            "text/plain": [
              "5.843333333333335"
            ]
          },
          "metadata": {},
          "execution_count": 75
        }
      ]
    },
    {
      "cell_type": "code",
      "source": [
        "ybar = np.mean(y)/n\n",
        "ybar"
      ],
      "metadata": {
        "colab": {
          "base_uri": "https://localhost:8080/"
        },
        "id": "BfnpdqIuxKRk",
        "outputId": "631f2dd4-2af3-4d87-d986-3a10d23acf34"
      },
      "execution_count": 76,
      "outputs": [
        {
          "output_type": "execute_result",
          "data": {
            "text/plain": [
              "0.025053333333333337"
            ]
          },
          "metadata": {},
          "execution_count": 76
        }
      ]
    },
    {
      "cell_type": "code",
      "source": [
        "product = []\n",
        "for i  in range(n):\n",
        "  product.append((x[i]-xbar)*(y[i]-ybar))\n"
      ],
      "metadata": {
        "id": "DLT-3HHvxQQT"
      },
      "execution_count": 77,
      "outputs": []
    },
    {
      "cell_type": "code",
      "source": [
        "cov = sum(product)/n\n",
        "cov  #+ve coverience means positive relationship"
      ],
      "metadata": {
        "colab": {
          "base_uri": "https://localhost:8080/"
        },
        "id": "9iNF5ZOTxrej",
        "outputId": "a2ad567b-8827-4fea-ca81-28ca0d443dcb"
      },
      "execution_count": 78,
      "outputs": [
        {
          "output_type": "execute_result",
          "data": {
            "text/plain": [
              "1.2658199999999953"
            ]
          },
          "metadata": {},
          "execution_count": 78
        }
      ]
    },
    {
      "cell_type": "code",
      "source": [
        "np.cov(x,y , ddof = 0)"
      ],
      "metadata": {
        "colab": {
          "base_uri": "https://localhost:8080/"
        },
        "id": "p4XMyChDx20Y",
        "outputId": "24fff835-b672-4241-8b13-34f2c2875286"
      },
      "execution_count": 79,
      "outputs": [
        {
          "output_type": "execute_result",
          "data": {
            "text/plain": [
              "array([[0.68112222, 1.26582   ],\n",
              "       [1.26582   , 3.09550267]])"
            ]
          },
          "metadata": {},
          "execution_count": 79
        }
      ]
    },
    {
      "cell_type": "markdown",
      "source": [
        "The NumPy cov() method returns a covariance matrix, which is a\n",
        " matrix because\n",
        " and\n",
        " together describe a two-dimensional space:\n",
        "\n",
        " The diagonal elements of the covariance matrix represent the variance of\n",
        " x and y, respectively:"
      ],
      "metadata": {
        "id": "t01ynQU2yiNN"
      }
    },
    {
      "cell_type": "code",
      "source": [
        "_ = sns.scatterplot(x=iris.sepal_length,y=iris.sepal_width)"
      ],
      "metadata": {
        "colab": {
          "base_uri": "https://localhost:8080/",
          "height": 461
        },
        "id": "Lp7Fbe4pyoiu",
        "outputId": "635b7a13-bce9-48d2-b7be-a7992391a0e9"
      },
      "execution_count": 80,
      "outputs": [
        {
          "output_type": "display_data",
          "data": {
            "text/plain": [
              "<Figure size 640x480 with 1 Axes>"
            ],
            "image/png": "[encoded data removed]"
          },
          "metadata": {}
        }
      ]
    },
    {
      "cell_type": "code",
      "source": [
        "np.cov(iris.sepal_length,iris.sepal_width, ddof = 0)"
      ],
      "metadata": {
        "colab": {
          "base_uri": "https://localhost:8080/"
        },
        "id": "q9RyPbgszK3L",
        "outputId": "6bac89e4-e626-40da-d873-aa73e26bed9a"
      },
      "execution_count": 81,
      "outputs": [
        {
          "output_type": "execute_result",
          "data": {
            "text/plain": [
              "array([[ 0.68112222, -0.04215111],\n",
              "       [-0.04215111,  0.18871289]])"
            ]
          },
          "metadata": {},
          "execution_count": 81
        }
      ]
    },
    {
      "cell_type": "markdown",
      "source": [
        "##Corelation\n",
        "\n",
        "A drawback of covariance is that it confounds the relative scale of two variables with a measure of the variables' relatedness. Correlation builds on covariance and overcomes this drawback via rescaling, thereby measuring relatedness exclusively. Correlation is much more common because of this difference."
      ],
      "metadata": {
        "id": "VjqefL4IzyS3"
      }
    },
    {
      "cell_type": "code",
      "source": [
        "cov = -0.04215111\n",
        "sigma_sq_x = 0.68112222\n",
        "sigma_sq_y = 0.18871289"
      ],
      "metadata": {
        "id": "dlWLQIMaz0vn"
      },
      "execution_count": 82,
      "outputs": []
    },
    {
      "cell_type": "code",
      "source": [
        "sigma_x= sigma_sq_x**(1/2)\n",
        "sigma_y = sigma_sq_y**(1/2)"
      ],
      "metadata": {
        "id": "68xgBFYF0XyH"
      },
      "execution_count": 83,
      "outputs": []
    },
    {
      "cell_type": "code",
      "source": [
        "cov/(sigma_x*sigma_y)  #Corelation"
      ],
      "metadata": {
        "colab": {
          "base_uri": "https://localhost:8080/"
        },
        "id": "MCTn39m20i3B",
        "outputId": "eefa3fd1-619b-49e4-b71a-532b4de5430c"
      },
      "execution_count": 84,
      "outputs": [
        {
          "output_type": "execute_result",
          "data": {
            "text/plain": [
              "-0.11756978087951572"
            ]
          },
          "metadata": {},
          "execution_count": 84
        }
      ]
    },
    {
      "cell_type": "code",
      "source": [
        "st.pearsonr(iris.sepal_length,iris.sepal_width)"
      ],
      "metadata": {
        "colab": {
          "base_uri": "https://localhost:8080/"
        },
        "id": "yYz29o-w0zS8",
        "outputId": "a267011c-a375-4b47-b1ad-11a8bcc7aebb"
      },
      "execution_count": 85,
      "outputs": [
        {
          "output_type": "execute_result",
          "data": {
            "text/plain": [
              "PearsonRResult(statistic=-0.11756978413300206, pvalue=0.15189826071144746)"
            ]
          },
          "metadata": {},
          "execution_count": 85
        }
      ]
    },
    {
      "cell_type": "code",
      "source": [
        "st.pearsonr(iris.petal_length,iris.petal_width)[0]"
      ],
      "metadata": {
        "colab": {
          "base_uri": "https://localhost:8080/"
        },
        "id": "Bd7V0nD61DKT",
        "outputId": "49b9b862-76be-47fb-8f2a-da33d245b36e"
      },
      "execution_count": 86,
      "outputs": [
        {
          "output_type": "execute_result",
          "data": {
            "text/plain": [
              "0.962865431402796"
            ]
          },
          "metadata": {},
          "execution_count": 86
        }
      ]
    },
    {
      "cell_type": "markdown",
      "source": [
        "N.B.: Covariance and correlation only account for linear relationships. Two variables could be non-linearly related to each other and these metrics could come out as zero."
      ],
      "metadata": {
        "id": "W8UYGizO1ZlI"
      }
    }
  ]
}