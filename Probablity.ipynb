{
  "nbformat": 4,
  "nbformat_minor": 0,
  "metadata": {
    "colab": {
      "provenance": [],
      "authorship_tag": "ABX9TyOJ0jGM30HMjA3h1ZWJct9s",
      "include_colab_link": true
    },
    "kernelspec": {
      "name": "python3",
      "display_name": "Python 3"
    },
    "language_info": {
      "name": "python"
    }
  },
  "cells": [
    {
      "cell_type": "markdown",
      "metadata": {
        "id": "view-in-github",
        "colab_type": "text"
      },
      "source": [
        "<a href=\"https://colab.research.google.com/github/Krisho1/Machine-Learning-Foundations-Math-Probability-Statistics-and-Computer-Science-Python-Codes-/blob/main/Probablity.ipynb\" target=\"_parent\"><img src=\"https://colab.research.google.com/assets/colab-badge.svg\" alt=\"Open In Colab\"/></a>"
      ]
    },
    {
      "cell_type": "markdown",
      "source": [
        "#Probablity"
      ],
      "metadata": {
        "id": "legMaD-WLkjr"
      }
    },
    {
      "cell_type": "code",
      "source": [
        "from math import factorial\n",
        "import numpy as np\n",
        "import matplotlib.pyplot as plt"
      ],
      "metadata": {
        "id": "j_IFbX2NLmdk"
      },
      "execution_count": 21,
      "outputs": []
    },
    {
      "cell_type": "code",
      "source": [
        "def coinflip_prob(n,k):\n",
        "  n_choose_k = factorial(n)/(factorial(k)*factorial(n-k))\n",
        "  return n_choose_k/2**n"
      ],
      "metadata": {
        "id": "MFJm8rXsToHy"
      },
      "execution_count": 8,
      "outputs": []
    },
    {
      "cell_type": "code",
      "source": [
        "coinflip_prob(5,3)"
      ],
      "metadata": {
        "colab": {
          "base_uri": "https://localhost:8080/"
        },
        "id": "mDt9RrzmT-9I",
        "outputId": "c60135ee-362e-4f5d-f335-1782997c2efa"
      },
      "execution_count": 9,
      "outputs": [
        {
          "output_type": "execute_result",
          "data": {
            "text/plain": [
              "0.3125"
            ]
          },
          "metadata": {},
          "execution_count": 9
        }
      ]
    },
    {
      "cell_type": "code",
      "source": [
        "[coinflip_prob(5,h) for h in range(6)]"
      ],
      "metadata": {
        "colab": {
          "base_uri": "https://localhost:8080/"
        },
        "id": "78A4YFGTUTHF",
        "outputId": "fa9e2f28-d30d-4fc6-fc1c-b067c56177b4"
      },
      "execution_count": 10,
      "outputs": [
        {
          "output_type": "execute_result",
          "data": {
            "text/plain": [
              "[0.03125, 0.15625, 0.3125, 0.3125, 0.15625, 0.03125]"
            ]
          },
          "metadata": {},
          "execution_count": 10
        }
      ]
    },
    {
      "cell_type": "markdown",
      "source": [
        "##Law of Large Number"
      ],
      "metadata": {
        "id": "jwoZhMKvWjFj"
      }
    },
    {
      "cell_type": "code",
      "source": [
        "ns = np.array([2, 4, 8, 16, 32, 64, 128, 256, 512, 1024, 2048, 4096])"
      ],
      "metadata": {
        "id": "72PcjmR8WmWR"
      },
      "execution_count": 12,
      "outputs": []
    },
    {
      "cell_type": "code",
      "source": [
        "np.random.seed(42) # for reproducibility"
      ],
      "metadata": {
        "id": "l5HmgyjvW4x0"
      },
      "execution_count": 13,
      "outputs": []
    },
    {
      "cell_type": "markdown",
      "source": [
        "We will discuss the binomial() method in more detail in Segment 2. For now it suffices to think of its two arguments as number of coin flips in experiment and probability of heads, while it returns the number of flips that are heads in the experiment."
      ],
      "metadata": {
        "id": "9k3ros4_XHYL"
      }
    },
    {
      "cell_type": "code",
      "source": [
        "np.random.binomial(1,0.5)  # We are doing one toss and with 50% chance we will get what's the value let's consider Heads as 1 and Tails as 0"
      ],
      "metadata": {
        "colab": {
          "base_uri": "https://localhost:8080/"
        },
        "id": "k1KdnAlpXAvu",
        "outputId": "2e737607-27a5-4c2b-a83e-8fe25f842a6e"
      },
      "execution_count": 17,
      "outputs": [
        {
          "output_type": "execute_result",
          "data": {
            "text/plain": [
              "1"
            ]
          },
          "metadata": {},
          "execution_count": 17
        }
      ]
    },
    {
      "cell_type": "code",
      "source": [
        "heads_count = [np.random.binomial(n,0.5) for n in ns]\n",
        "heads_count"
      ],
      "metadata": {
        "colab": {
          "base_uri": "https://localhost:8080/"
        },
        "id": "p0kDRgH9XhlW",
        "outputId": "3a9122dc-3536-4d1b-d46d-e3a6cf348e94"
      },
      "execution_count": 19,
      "outputs": [
        {
          "output_type": "execute_result",
          "data": {
            "text/plain": [
              "[2, 1, 4, 8, 11, 27, 75, 135, 249, 484, 1009, 2041]"
            ]
          },
          "metadata": {},
          "execution_count": 19
        }
      ]
    },
    {
      "cell_type": "markdown",
      "source": [
        "he law of large numbers states that the **more** experiments we run, the **closer** we will tend to get to the expected probability."
      ],
      "metadata": {
        "id": "tfWPsHy0X7ls"
      }
    },
    {
      "cell_type": "code",
      "source": [
        "proportion_of_heads = heads_count/ns\n",
        "proportion_of_heads"
      ],
      "metadata": {
        "colab": {
          "base_uri": "https://localhost:8080/"
        },
        "id": "DXnvvtVuYImi",
        "outputId": "eb1352d9-dfaa-4a7f-abed-02231ad761c2"
      },
      "execution_count": 20,
      "outputs": [
        {
          "output_type": "execute_result",
          "data": {
            "text/plain": [
              "array([1.        , 0.25      , 0.5       , 0.5       , 0.34375   ,\n",
              "       0.421875  , 0.5859375 , 0.52734375, 0.48632812, 0.47265625,\n",
              "       0.49267578, 0.49829102])"
            ]
          },
          "metadata": {},
          "execution_count": 20
        }
      ]
    },
    {
      "cell_type": "code",
      "source": [
        "fig,ax = plt.subplots()\n",
        "plt.xlabel = ('Number of Coin toss')\n",
        "plt.ylabel =('Probality of Heads')\n",
        "plt.axhline(0.5,color = 'orange')\n",
        "_ = ax.scatter(ns,proportion_of_heads)"
      ],
      "metadata": {
        "colab": {
          "base_uri": "https://localhost:8080/",
          "height": 430
        },
        "id": "-Ty0tNEcYfAU",
        "outputId": "24856ad7-a76f-414f-d08e-0e2a73d8af0b"
      },
      "execution_count": 23,
      "outputs": [
        {
          "output_type": "display_data",
          "data": {
            "text/plain": [
              "<Figure size 640x480 with 1 Axes>"
            ],
            "image/png": "[encoded data removed]"
          },
          "metadata": {}
        }
      ]
    },
    {
      "cell_type": "markdown",
      "source": [
        "#Statistics\n",
        "\n",
        "The field of statistics applies probability theory to make inferences with a quantifiable degree of confidence. For example, let's say we ran the five-coin-flip experiment 1000 times with a fair coin:"
      ],
      "metadata": {
        "id": "rvA9bXqbZufi"
      }
    },
    {
      "cell_type": "code",
      "source": [
        "n_experiment = 1000"
      ],
      "metadata": {
        "id": "YnJeYHy1Z74C"
      },
      "execution_count": 24,
      "outputs": []
    },
    {
      "cell_type": "code",
      "source": [
        "heads_count = np.random.binomial(5,0.5,n_experiment)   #Third arguement provides number of experiment we will be doing\n"
      ],
      "metadata": {
        "id": "wBnApKthZ-73"
      },
      "execution_count": 26,
      "outputs": []
    },
    {
      "cell_type": "code",
      "source": [
        "heads,count = np.unique(heads_count,return_counts = True)"
      ],
      "metadata": {
        "id": "Mj6rbCdXaXsM"
      },
      "execution_count": 27,
      "outputs": []
    },
    {
      "cell_type": "code",
      "source": [
        "heads"
      ],
      "metadata": {
        "colab": {
          "base_uri": "https://localhost:8080/"
        },
        "id": "UcYHNYZlajah",
        "outputId": "1fabe97f-adba-4a12-b942-c26ddc195241"
      },
      "execution_count": 28,
      "outputs": [
        {
          "output_type": "execute_result",
          "data": {
            "text/plain": [
              "array([0, 1, 2, 3, 4, 5])"
            ]
          },
          "metadata": {},
          "execution_count": 28
        }
      ]
    },
    {
      "cell_type": "markdown",
      "source": [
        "We can plot the results of our experiment to create a probability distribution:"
      ],
      "metadata": {
        "id": "H1P3DOlBdKQU"
      }
    },
    {
      "cell_type": "code",
      "source": [
        "count"
      ],
      "metadata": {
        "colab": {
          "base_uri": "https://localhost:8080/"
        },
        "id": "1g-9ztkbanDO",
        "outputId": "0d5fd7fc-0388-469b-b872-a8fa536e43f7"
      },
      "execution_count": 29,
      "outputs": [
        {
          "output_type": "execute_result",
          "data": {
            "text/plain": [
              "array([ 30, 168, 292, 325, 145,  40])"
            ]
          },
          "metadata": {},
          "execution_count": 29
        }
      ]
    },
    {
      "cell_type": "code",
      "source": [
        "event_probablity = count/n_experiment\n",
        "event_probablity"
      ],
      "metadata": {
        "colab": {
          "base_uri": "https://localhost:8080/"
        },
        "id": "B4_6rIYQayjn",
        "outputId": "0bd3ca0a-3fde-47ee-e3a3-4832ac6d7dc8"
      },
      "execution_count": 31,
      "outputs": [
        {
          "output_type": "execute_result",
          "data": {
            "text/plain": [
              "array([0.03 , 0.168, 0.292, 0.325, 0.145, 0.04 ])"
            ]
          },
          "metadata": {},
          "execution_count": 31
        }
      ]
    },
    {
      "cell_type": "code",
      "source": [
        "plt.bar(heads, event_probablity, color='mediumpurple')\n",
        "#plt.xlabel('Number of Heads')\n",
        "#plt.ylabel('Event probability')\n",
        "plt.show()"
      ],
      "metadata": {
        "colab": {
          "base_uri": "https://localhost:8080/",
          "height": 430
        },
        "id": "QbBaIHgRbAW7",
        "outputId": "a01dee0b-de63-47a5-e0c7-3ba9859e658f"
      },
      "execution_count": 42,
      "outputs": [
        {
          "output_type": "display_data",
          "data": {
            "text/plain": [
              "<Figure size 640x480 with 1 Axes>"
            ],
            "image/png": "[encoded data removed]"
          },
          "metadata": {}
        }
      ]
    }
  ]
}